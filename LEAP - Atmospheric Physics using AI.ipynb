{
 "cells": [
  {
   "cell_type": "code",
   "execution_count": 1,
   "id": "e185e0b4",
   "metadata": {
    "_cell_guid": "b1076dfc-b9ad-4769-8c92-a6c4dae69d19",
    "_uuid": "8f2839f25d086af736a60e9eeb907d3b93b6e0e5",
    "execution": {
     "iopub.execute_input": "2024-05-02T16:13:26.117919Z",
     "iopub.status.busy": "2024-05-02T16:13:26.117147Z",
     "iopub.status.idle": "2024-05-02T16:13:33.343087Z",
     "shell.execute_reply": "2024-05-02T16:13:33.342065Z"
    },
    "papermill": {
     "duration": 7.244966,
     "end_time": "2024-05-02T16:13:33.345646",
     "exception": false,
     "start_time": "2024-05-02T16:13:26.100680",
     "status": "completed"
    },
    "tags": []
   },
   "outputs": [
    {
     "name": "stdout",
     "output_type": "stream",
     "text": [
      "/kaggle/input/atmospred/pytorch/trained.pth/1/20240502-001.pth\n",
      "/kaggle/input/leap-atmospheric-physics-ai-climsim/sample_submission.csv\n",
      "/kaggle/input/leap-atmospheric-physics-ai-climsim/train.csv\n",
      "/kaggle/input/leap-atmospheric-physics-ai-climsim/test.csv\n"
     ]
    }
   ],
   "source": [
    "# This Python 3 environment comes with many helpful analytics libraries installed\n",
    "# It is defined by the kaggle/python Docker image: https://github.com/kaggle/docker-python\n",
    "# For example, here's several helpful packages to load\n",
    "\n",
    "import numpy as np # linear algebra\n",
    "import pandas as pd\n",
    "import polars as pl\n",
    "from tqdm import tqdm \n",
    "import time\n",
    "\n",
    "import torch\n",
    "from torch.utils.data import Dataset\n",
    "from torch.utils.data import DataLoader\n",
    "import torchvision.transforms as transforms\n",
    "import torch.nn as nn\n",
    "import torch.nn.functional as F\n",
    "\n",
    "# Input data files are available in the read-only \"../input/\" directory\n",
    "# For example, running this (by clicking run or pressing Shift+Enter) will list all files under the input directory\n",
    "\n",
    "import os\n",
    "for dirname, _, filenames in os.walk('/kaggle/input'):\n",
    "    for filename in filenames:\n",
    "        print(os.path.join(dirname, filename))\n",
    "\n",
    "# You can write up to 20GB to the current directory (/kaggle/working/) that gets preserved as output when you create a version using \"Save & Run All\" \n",
    "# You can also write temporary files to /kaggle/temp/, but they won't be saved outside of the current session"
   ]
  },
  {
   "cell_type": "markdown",
   "id": "25bfbf7c",
   "metadata": {
    "papermill": {
     "duration": 0.014409,
     "end_time": "2024-05-02T16:13:33.375147",
     "exception": false,
     "start_time": "2024-05-02T16:13:33.360738",
     "status": "completed"
    },
    "tags": []
   },
   "source": [
    "# Timer for code running\n",
    "\n",
    "Compute the time cost of a block"
   ]
  },
  {
   "cell_type": "code",
   "execution_count": 2,
   "id": "b11a816d",
   "metadata": {
    "execution": {
     "iopub.execute_input": "2024-05-02T16:13:33.405647Z",
     "iopub.status.busy": "2024-05-02T16:13:33.404744Z",
     "iopub.status.idle": "2024-05-02T16:13:33.414323Z",
     "shell.execute_reply": "2024-05-02T16:13:33.413481Z"
    },
    "papermill": {
     "duration": 0.026689,
     "end_time": "2024-05-02T16:13:33.416174",
     "exception": false,
     "start_time": "2024-05-02T16:13:33.389485",
     "status": "completed"
    },
    "tags": []
   },
   "outputs": [],
   "source": [
    "import time\n",
    "\n",
    "class Timer:\n",
    "    def __init__(self):\n",
    "        self.t0 = 0\n",
    "        self.t1 = 0\n",
    "        self.times = []\n",
    "        self.infos = []\n",
    "        \n",
    "    def start(self, info = 'Run'):\n",
    "        self.t1 = self.t0\n",
    "        self.infos.append(f'{len(self.infos)} {info}')\n",
    "        self.t0 = time.time()\n",
    "        \n",
    "    def stop(self):\n",
    "        self.t1 = time.time()\n",
    "        t = self.t1 - self.t0\n",
    "        self.times.append(t)\n",
    "        print(f'{self.infos[-1]} Time Cost: {t:.3f}s')\n",
    "        \n",
    "    def get_stats(self):\n",
    "        for info, tm in zip(self.infos, self.times):\n",
    "            print(f'{info}\\t{tm:.3f}s')\n",
    "        print(f'Total: {sum(self.times):.3f}')\n",
    "    \n",
    "    def clear(self, idx=0):\n",
    "        if idx == 0:\n",
    "            self.infos.clear()\n",
    "            self.times.clear()\n",
    "            return\n",
    "        info = self.infos.pop(idx - (0 if idx < 0 else 1))\n",
    "        tm = self.times.pop(idx - (0 if idx < 0 else 1))\n",
    "        return info, tm\n",
    "        \n",
    "timer = Timer()"
   ]
  },
  {
   "cell_type": "markdown",
   "id": "523156b7",
   "metadata": {
    "papermill": {
     "duration": 0.015154,
     "end_time": "2024-05-02T16:13:33.445480",
     "exception": false,
     "start_time": "2024-05-02T16:13:33.430326",
     "status": "completed"
    },
    "tags": []
   },
   "source": [
    "# File Paths and Chunk Size\n",
    "\n",
    "- set file path for train set and test set\n",
    "- read training dataset with chunks as its large file"
   ]
  },
  {
   "cell_type": "code",
   "execution_count": 3,
   "id": "cbaf8828",
   "metadata": {
    "execution": {
     "iopub.execute_input": "2024-05-02T16:13:33.476533Z",
     "iopub.status.busy": "2024-05-02T16:13:33.475845Z",
     "iopub.status.idle": "2024-05-02T16:13:33.480279Z",
     "shell.execute_reply": "2024-05-02T16:13:33.479444Z"
    },
    "papermill": {
     "duration": 0.022425,
     "end_time": "2024-05-02T16:13:33.482373",
     "exception": false,
     "start_time": "2024-05-02T16:13:33.459948",
     "status": "completed"
    },
    "tags": []
   },
   "outputs": [],
   "source": [
    "# 文件路径\n",
    "train_csv = '/kaggle/input/leap-atmospheric-physics-ai-climsim/train.csv'\n",
    "test_csv = '/kaggle/input/leap-atmospheric-physics-ai-climsim/test.csv'\n",
    "subm_spl = '/kaggle/input/leap-atmospheric-physics-ai-climsim/sample_submission.csv'\n",
    "out_csv = 'submission.csv'\n",
    "\n",
    "read_chunk_size = 50000 # 一次性读取50000行数据"
   ]
  },
  {
   "cell_type": "markdown",
   "id": "7267df0d",
   "metadata": {
    "papermill": {
     "duration": 0.014344,
     "end_time": "2024-05-02T16:13:33.511709",
     "exception": false,
     "start_time": "2024-05-02T16:13:33.497365",
     "status": "completed"
    },
    "tags": []
   },
   "source": [
    "- read data from csv file and get the 1st chunk"
   ]
  },
  {
   "cell_type": "code",
   "execution_count": 4,
   "id": "70297a2d",
   "metadata": {
    "execution": {
     "iopub.execute_input": "2024-05-02T16:13:33.542170Z",
     "iopub.status.busy": "2024-05-02T16:13:33.541854Z",
     "iopub.status.idle": "2024-05-02T16:13:53.559280Z",
     "shell.execute_reply": "2024-05-02T16:13:53.558271Z"
    },
    "papermill": {
     "duration": 20.035541,
     "end_time": "2024-05-02T16:13:53.561790",
     "exception": false,
     "start_time": "2024-05-02T16:13:33.526249",
     "status": "completed"
    },
    "tags": []
   },
   "outputs": [
    {
     "name": "stdout",
     "output_type": "stream",
     "text": [
      "0 Run Time Cost: 20.009s\n"
     ]
    },
    {
     "data": {
      "text/plain": [
       "(50000, 925)"
      ]
     },
     "execution_count": 4,
     "metadata": {},
     "output_type": "execute_result"
    }
   ],
   "source": [
    "# 读取数据\n",
    "timer.start()\n",
    "train_chunks = pd.read_csv(train_csv, chunksize = read_chunk_size)\n",
    "train_data = next(train_chunks)\n",
    "timer.stop()\n",
    "# train_data = next(train_chunks)\n",
    "# train_data = next(train_chunks)\n",
    "cols = train_data.columns\n",
    "\n",
    "train_data.shape"
   ]
  },
  {
   "cell_type": "markdown",
   "id": "61679d4b",
   "metadata": {
    "execution": {
     "iopub.execute_input": "2024-04-30T12:42:05.276073Z",
     "iopub.status.busy": "2024-04-30T12:42:05.275659Z",
     "iopub.status.idle": "2024-04-30T12:42:05.286260Z",
     "shell.execute_reply": "2024-04-30T12:42:05.284486Z",
     "shell.execute_reply.started": "2024-04-30T12:42:05.276042Z"
    },
    "papermill": {
     "duration": 0.016493,
     "end_time": "2024-05-02T16:13:53.594416",
     "exception": false,
     "start_time": "2024-05-02T16:13:53.577923",
     "status": "completed"
    },
    "tags": []
   },
   "source": [
    "# Split training set\n",
    "\n",
    "1. split into input and output\n",
    "2. split into \n",
    "    - training set\n",
    "    - validation set\n",
    "    - testing set"
   ]
  },
  {
   "cell_type": "code",
   "execution_count": 5,
   "id": "935fde70",
   "metadata": {
    "execution": {
     "iopub.execute_input": "2024-05-02T16:13:53.628081Z",
     "iopub.status.busy": "2024-05-02T16:13:53.627704Z",
     "iopub.status.idle": "2024-05-02T16:13:53.637839Z",
     "shell.execute_reply": "2024-05-02T16:13:53.637081Z"
    },
    "papermill": {
     "duration": 0.029517,
     "end_time": "2024-05-02T16:13:53.639871",
     "exception": false,
     "start_time": "2024-05-02T16:13:53.610354",
     "status": "completed"
    },
    "tags": []
   },
   "outputs": [],
   "source": [
    "# 划分数据集\n",
    "\n",
    "def split_io(dframe, in_cols = cols[1:557], out_cols = cols[557:]):\n",
    "    # 划分输入输出\n",
    "    in_df = dframe[in_cols]\n",
    "    out_df = dframe[out_cols]\n",
    "    return in_df, out_df\n",
    "\n",
    "def split_tvt(dframe, ratio=[0.8], shuffle=False):\n",
    "    # 设定好 train (和 val) 集的比例，剩余的均归到test/val\n",
    "    assert sum(ratio) <= 1, \"Ratio sum for train and val cannot be bigger than 1\"\n",
    "    assert len(ratio) > 0, \"Ratio cannot be empty\"\n",
    "     # 根据是否需要测试集来调整比例\n",
    "    train_rat = ratio[0]\n",
    "    val_rat = (1 - train_rat) if len(ratio) == 1 else ratio[1]\n",
    "    test_rat = (1 - train_rat - val_rat) if len(ratio) == 2 else 0\n",
    "    \n",
    "    data_size = dframe.shape[0]\n",
    "    train_size = int(data_size * train_rat)\n",
    "    val_size = (data_size - train_size) if len(ratio) == 1 else int(data_size * val_rat)\n",
    "    \n",
    "    if shuffle:\n",
    "        dframe = dframe.sample(frac=1).reset_index(drop=True)\n",
    "        \n",
    "    train = dframe.iloc[:train_size]\n",
    "    val = dframe.iloc[train_size:train_size + val_size]\n",
    "    \n",
    "    if test_rat != 0:\n",
    "        test = dframe.iloc[train_size + val_size:]\n",
    "        return train, val, test\n",
    "    else:\n",
    "        return train, val\n"
   ]
  },
  {
   "cell_type": "code",
   "execution_count": 6,
   "id": "c5a7d8cf",
   "metadata": {
    "execution": {
     "iopub.execute_input": "2024-05-02T16:13:53.675376Z",
     "iopub.status.busy": "2024-05-02T16:13:53.675001Z",
     "iopub.status.idle": "2024-05-02T16:13:54.165032Z",
     "shell.execute_reply": "2024-05-02T16:13:54.164065Z"
    },
    "papermill": {
     "duration": 0.510906,
     "end_time": "2024-05-02T16:13:54.167445",
     "exception": false,
     "start_time": "2024-05-02T16:13:53.656539",
     "status": "completed"
    },
    "tags": []
   },
   "outputs": [
    {
     "name": "stdout",
     "output_type": "stream",
     "text": [
      "val_set.shape = (10000, 925)\n",
      "test_set.shape = (5000, 925)\n",
      "train_in.shape = (35000, 556)\n",
      "train_out.shape = (35000, 368)\n",
      "val_in.shape = (10000, 556)\n",
      "val_out.shape = (10000, 368)\n",
      "val_out.iloc[0] = ptend_t_0        9.674900e-07\n",
      "ptend_t_1       -8.157731e-05\n",
      "ptend_t_2       -8.608553e-05\n",
      "ptend_t_3       -8.610085e-05\n",
      "ptend_t_4       -9.030343e-05\n",
      "                     ...     \n",
      "cam_out_PRECC    0.000000e+00\n",
      "cam_out_SOLS     0.000000e+00\n",
      "cam_out_SOLL     0.000000e+00\n",
      "cam_out_SOLSD    0.000000e+00\n",
      "cam_out_SOLLD    0.000000e+00\n",
      "Name: 35000, Length: 368, dtype: float64\n"
     ]
    }
   ],
   "source": [
    "# 划分数据集\n",
    "train_set, val_set, test_set = split_tvt(train_data, [0.7, 0.2], True)\n",
    "train_in, train_out = split_io(train_set)\n",
    "val_in, val_out = split_io(val_set)\n",
    "test_in, test_out = split_io(test_set)\n",
    "\n",
    "print(f'{val_set.shape = }')\n",
    "print(f'{test_set.shape = }')\n",
    "print(f'{train_in.shape = }')\n",
    "print(f'{train_out.shape = }')\n",
    "print(f'{val_in.shape = }')\n",
    "print(f'{val_out.shape = }')\n",
    "print(f'{val_out.iloc[0] = }')\n",
    "\n",
    "del(train_data)\n",
    "del(train_set)\n",
    "del(val_set)\n",
    "del(test_set)"
   ]
  },
  {
   "attachments": {
    "a01c902f-d1c5-4e04-a8d9-2914a7e093cd.png": {
     "image/png": "[encoded data removed]"
    }
   },
   "cell_type": "markdown",
   "id": "f6f3e013",
   "metadata": {
    "papermill": {
     "duration": 0.014908,
     "end_time": "2024-05-02T16:13:54.197370",
     "exception": false,
     "start_time": "2024-05-02T16:13:54.182462",
     "status": "completed"
    },
    "tags": []
   },
   "source": [
    "# Convert Data\n",
    "\n",
    "Rearrange data with 60 dimensions into 2d tensor($n \\times 60$) and data with 1 dimension into a 1d tensor($m \\times 1$). \n",
    "\n",
    "![input data look like](attachment:a01c902f-d1c5-4e04-a8d9-2914a7e093cd.png)  \n",
    "\n",
    "<!-- <font color='red'>Un-comment images to see</font> -->\n",
    "\n",
    "This is what input data look like\n",
    "\n",
    "---\n",
    "\n",
    "After test, the input has (16,1) and (9, 60), the output has (8,1) and (6, 60)"
   ]
  },
  {
   "cell_type": "code",
   "execution_count": 7,
   "id": "3e36a585",
   "metadata": {
    "execution": {
     "iopub.execute_input": "2024-05-02T16:13:54.230961Z",
     "iopub.status.busy": "2024-05-02T16:13:54.230600Z",
     "iopub.status.idle": "2024-05-02T16:13:54.240319Z",
     "shell.execute_reply": "2024-05-02T16:13:54.239352Z"
    },
    "papermill": {
     "duration": 0.029684,
     "end_time": "2024-05-02T16:13:54.242432",
     "exception": false,
     "start_time": "2024-05-02T16:13:54.212748",
     "status": "completed"
    },
    "tags": []
   },
   "outputs": [],
   "source": [
    "import re\n",
    "\n",
    "# 转换数据集\n",
    "def convert_data(cols, line):\n",
    "    # 输入一个表头和一行的数据，将其转换为两个张量\n",
    "    tensor1d = [[],[]]\n",
    "    tensor2d = [[],[]]\n",
    "    old_title = ''\n",
    "    for col, value in zip(cols, line):\n",
    "        match = re.search(r'_(\\d+)$', col)\n",
    "        if match is None: # in 1d tensor\n",
    "            tensor1d[0].append(col)\n",
    "            tensor1d[1].append([value])\n",
    "        else:\n",
    "            title = col[:-len(match.group(0))]\n",
    "            if not title == old_title:\n",
    "                old_title = title\n",
    "                tensor2d[0].append(title)\n",
    "                tensor2d[1].append([])\n",
    "            tensor2d[1][-1].append(value)\n",
    "    tensor1d[0] = np.array(tensor1d[0])\n",
    "    tensor2d[0] = np.array(tensor2d[0])\n",
    "    tensor1d[1] = np.array(tensor1d[1])\n",
    "    tensor2d[1] = np.array(tensor2d[1])\n",
    "    return tensor1d, tensor2d\n",
    "        \n",
    "# d1, d2 = convert_data(val_out.columns, val_out.iloc[0]) # 测试一行\n",
    "# print(f'{d1[0].shape = }\\t{d1[0].dtype = }')\n",
    "# print(f'{d1[1].shape = }\\t{d1[1].dtype = }')\n",
    "# print(f'{d2[0].shape = }\\t{d2[0].dtype = }')\n",
    "# print(f'{d2[1].shape = }\\t{d2[1].dtype = }')\n",
    "# del(d1)\n",
    "# del(d2)"
   ]
  },
  {
   "cell_type": "markdown",
   "id": "6d287a0b",
   "metadata": {
    "papermill": {
     "duration": 0.015174,
     "end_time": "2024-05-02T16:13:54.273608",
     "exception": false,
     "start_time": "2024-05-02T16:13:54.258434",
     "status": "completed"
    },
    "tags": []
   },
   "source": [
    "# Dataset\n",
    "\n",
    "Define a custom dataset for this input/output"
   ]
  },
  {
   "cell_type": "code",
   "execution_count": 8,
   "id": "214ed95b",
   "metadata": {
    "execution": {
     "iopub.execute_input": "2024-05-02T16:13:54.306789Z",
     "iopub.status.busy": "2024-05-02T16:13:54.306145Z",
     "iopub.status.idle": "2024-05-02T16:13:54.315332Z",
     "shell.execute_reply": "2024-05-02T16:13:54.314414Z"
    },
    "papermill": {
     "duration": 0.027927,
     "end_time": "2024-05-02T16:13:54.317311",
     "exception": false,
     "start_time": "2024-05-02T16:13:54.289384",
     "status": "completed"
    },
    "tags": []
   },
   "outputs": [],
   "source": [
    "class MyDataset(Dataset):\n",
    "    def __init__(self, dsin, dsout, transform=transforms.Compose([\n",
    "        transforms.ToTensor(),\n",
    "    ])):\n",
    "        self.dsin = dsin\n",
    "        self.dsout = dsout\n",
    "        self.transform =transform\n",
    "    \n",
    "    def __len__(self):\n",
    "        return self.dsin.shape[0]\n",
    "    \n",
    "    def __getitem__(self, x):\n",
    "        in1, in2 = convert_data(self.dsin.columns, self.dsin.iloc[x])\n",
    "#         out1, out2 = convert_data(self.dsout.columns, self.dsout.iloc[x])\n",
    "        din = [in1[1], in2[1]]\n",
    "#         dout = [out1[1], out2[1]]\n",
    "        dout = np.array([[value] for value in self.dsout.iloc[x]])\n",
    "#         print(f'{dout.shape = }')\n",
    "        \n",
    "        if self.transform:\n",
    "            din[0] = self.transform(din[0])\n",
    "            din[1] = self.transform(din[1])\n",
    "#             dout[0] = self.transform(dout[0])\n",
    "#             dout[1] = self.transform(dout[1])\n",
    "            dout = self.transform(dout)\n",
    "        \n",
    "        # 使用torch.unsqueeze将数组从[m, n]转换为[1, m, n]\n",
    "#         din = [torch.from_numpy(tensor) for tensor in din]\n",
    "#         dout = [torch.from_numpy(tensor) for tensor in dout]\n",
    "        din = [tensor.to(torch.float32) for tensor in din]\n",
    "#         dout = [tensor.to(torch.float32)  for tensor in dout]\n",
    "        dout = dout.to(torch.float32)\n",
    "        \n",
    "        return din, dout"
   ]
  },
  {
   "cell_type": "code",
   "execution_count": 9,
   "id": "cc32fb33",
   "metadata": {
    "execution": {
     "iopub.execute_input": "2024-05-02T16:13:54.349904Z",
     "iopub.status.busy": "2024-05-02T16:13:54.349611Z",
     "iopub.status.idle": "2024-05-02T16:13:54.410845Z",
     "shell.execute_reply": "2024-05-02T16:13:54.409902Z"
    },
    "papermill": {
     "duration": 0.080279,
     "end_time": "2024-05-02T16:13:54.412946",
     "exception": false,
     "start_time": "2024-05-02T16:13:54.332667",
     "status": "completed"
    },
    "tags": []
   },
   "outputs": [
    {
     "data": {
      "text/plain": [
       "'cuda'"
      ]
     },
     "execution_count": 9,
     "metadata": {},
     "output_type": "execute_result"
    }
   ],
   "source": [
    "batch_size = 200\n",
    "num_workers = 128\n",
    "lr = 0.0001\n",
    "device = 'cuda' if torch.cuda.is_available() else 'cpu'\n",
    "device"
   ]
  },
  {
   "cell_type": "code",
   "execution_count": 10,
   "id": "5c91af53",
   "metadata": {
    "execution": {
     "iopub.execute_input": "2024-05-02T16:13:54.444983Z",
     "iopub.status.busy": "2024-05-02T16:13:54.444318Z",
     "iopub.status.idle": "2024-05-02T16:13:54.482383Z",
     "shell.execute_reply": "2024-05-02T16:13:54.481071Z"
    },
    "papermill": {
     "duration": 0.056314,
     "end_time": "2024-05-02T16:13:54.484447",
     "exception": false,
     "start_time": "2024-05-02T16:13:54.428133",
     "status": "completed"
    },
    "tags": []
   },
   "outputs": [
    {
     "name": "stdout",
     "output_type": "stream",
     "text": [
      "len(train_dataset) = 35000\n",
      "len(val_dataset) = 10000\n"
     ]
    },
    {
     "name": "stderr",
     "output_type": "stream",
     "text": [
      "/opt/conda/lib/python3.10/site-packages/torch/utils/data/dataloader.py:557: UserWarning: This DataLoader will create 128 worker processes in total. Our suggested max number of worker in current system is 4, which is smaller than what this DataLoader is going to create. Please be aware that excessive worker creation might get DataLoader running slow or even freeze, lower the worker number to avoid potential slowness/freeze if necessary.\n",
      "  warnings.warn(_create_warning_msg(\n"
     ]
    },
    {
     "data": {
      "text/plain": [
       "torch.Size([1, 368, 1])"
      ]
     },
     "execution_count": 10,
     "metadata": {},
     "output_type": "execute_result"
    }
   ],
   "source": [
    "train_dataset = MyDataset(train_in, train_out)\n",
    "train_loader = DataLoader(train_dataset, batch_size = batch_size, shuffle=True, num_workers=num_workers, pin_memory=True)\n",
    "print(f'{len(train_dataset) = }')\n",
    "\n",
    "val_dataset = MyDataset(val_in, val_out)\n",
    "val_loader = DataLoader(val_dataset, batch_size = batch_size, shuffle=False, num_workers=num_workers, pin_memory=True)\n",
    "print(f'{len(val_dataset) = }')\n",
    "\n",
    "train_dataset[0][1].size()"
   ]
  },
  {
   "cell_type": "code",
   "execution_count": 11,
   "id": "8955369e",
   "metadata": {
    "execution": {
     "iopub.execute_input": "2024-05-02T16:13:54.518584Z",
     "iopub.status.busy": "2024-05-02T16:13:54.518000Z",
     "iopub.status.idle": "2024-05-02T16:13:54.522185Z",
     "shell.execute_reply": "2024-05-02T16:13:54.521293Z"
    },
    "papermill": {
     "duration": 0.023826,
     "end_time": "2024-05-02T16:13:54.524206",
     "exception": false,
     "start_time": "2024-05-02T16:13:54.500380",
     "status": "completed"
    },
    "tags": []
   },
   "outputs": [],
   "source": [
    "# val_dataset[0]"
   ]
  },
  {
   "attachments": {
    "6a43cea5-05f0-4431-abec-855074120396.png": {
     "image/png": "[encoded data removed]"
    },
    "e4daec3d-8b73-4384-a3ab-8f488707eeb6.png": {
     "image/png": "[encoded data removed]"
    }
   },
   "cell_type": "markdown",
   "id": "dc1f7717",
   "metadata": {
    "papermill": {
     "duration": 0.016123,
     "end_time": "2024-05-02T16:13:54.555925",
     "exception": false,
     "start_time": "2024-05-02T16:13:54.539802",
     "status": "completed"
    },
    "tags": []
   },
   "source": [
    "# Build model\n",
    "\n",
    "Model structure is like this\n",
    "\n",
    "<!-- ![image.png](attachment:6a43cea5-05f0-4431-abec-855074120396.png) -->\n",
    "![image.png](attachment:e4daec3d-8b73-4384-a3ab-8f488707eeb6.png)\n",
    "\n",
    "```mermaid\n",
    "graph LR\n",
    "\n",
    "A[Input0] ---> B[Seq11] --> C[torch.cat]\n",
    "D[Input1] --> E[Seq21] --> F[Seq22] --> C\n",
    "C --> G[concat] --> H[mlp] --> I[Out 1D] --> Z[Output0]\n",
    "G --> J[ups1] --> K[Out 2D] --> Z\n",
    "```\n",
    "\n",
    "Compared with the old version which didn't merge the 2 outputs, the new model is better for MSELoss and $R^2$ for calculating accuracies.\n",
    "\n",
    "And the new model can train more quickly than the old one\n"
   ]
  },
  {
   "cell_type": "code",
   "execution_count": 12,
   "id": "cdb17611",
   "metadata": {
    "execution": {
     "iopub.execute_input": "2024-05-02T16:13:54.589912Z",
     "iopub.status.busy": "2024-05-02T16:13:54.589078Z",
     "iopub.status.idle": "2024-05-02T16:13:54.770768Z",
     "shell.execute_reply": "2024-05-02T16:13:54.769884Z"
    },
    "papermill": {
     "duration": 0.201157,
     "end_time": "2024-05-02T16:13:54.772879",
     "exception": false,
     "start_time": "2024-05-02T16:13:54.571722",
     "status": "completed"
    },
    "tags": []
   },
   "outputs": [],
   "source": [
    "def bilinear_kernel(in_channels, out_channels, kernel_size):\n",
    "    if type(kernel_size) != tuple:\n",
    "        factor = (kernel_size + 1) // 2\n",
    "        if kernel_size % 2 == 1:\n",
    "            center = factor - 1\n",
    "        else:\n",
    "            center = factor - 0.5\n",
    "        og = (torch.arange(kernel_size[0]).reshape(-1, 1),\n",
    "              torch.arange(kernel_size[1]).reshape(1, -1))\n",
    "        filt = (1 - torch.abs(og[0] - center) / factor) * \\\n",
    "               (1 - torch.abs(og[1] - center) / factor)\n",
    "        weight = torch.zeros((in_channels, out_channels,\n",
    "                              kernel_size, kernel_size))\n",
    "        weight[range(in_channels), range(out_channels), :, :] = filt\n",
    "    else:\n",
    "        factor1 = (kernel_size[0] + 1) // 2\n",
    "        factor2 = (kernel_size[1] + 1) // 2\n",
    "        if kernel_size[0] % 2 == 1:\n",
    "            center1 = factor1 - 1\n",
    "        else:\n",
    "            center1 = factor1 - 0.5\n",
    "        if kernel_size[1] % 2 == 1:\n",
    "            center2 = factor2 - 1\n",
    "        else:\n",
    "            center2 = factor2 - 0.5\n",
    "        og = (torch.arange(kernel_size[0]).reshape(-1, 1),\n",
    "              torch.arange(kernel_size[1]).reshape(1, -1))\n",
    "        filt = (1 - torch.abs(og[0] - center1) / factor1) * \\\n",
    "               (1 - torch.abs(og[1] - center2) / factor2)\n",
    "        weight = torch.zeros((in_channels, out_channels,\n",
    "                              kernel_size[0], kernel_size[1]))\n",
    "        weight[range(in_channels), range(out_channels), :, :] = filt\n",
    "    return weight\n",
    "\n",
    "class TransConv(nn.Module):\n",
    "    def __init__(self, in_channels: int, out_channels: int, \n",
    "                 kernel_size, stride=1, padding=0):\n",
    "        super(TransConv, self).__init__()\n",
    "        self.trans_conv = nn.ConvTranspose2d(in_channels, out_channels, \n",
    "                 kernel_size, stride, padding)\n",
    "        self.trans_conv.weight.data.copy_(bilinear_kernel(in_channels, out_channels, kernel_size))\n",
    "        \n",
    "    def forward(self, x):\n",
    "        return self.trans_conv(x)\n",
    "    \n",
    "    \n",
    "class Flatten(nn.Module):\n",
    "    def __init__(self):\n",
    "        super(Flatten, self).__init__()\n",
    "        self.flatten = nn.Flatten()\n",
    "        \n",
    "    def forward(self, x):\n",
    "        out1d = x[0]\n",
    "        out2d = x[1]\n",
    "        out1d = out1d.flatten(1)\n",
    "        out2d = out2d.flatten(1)\n",
    "        out = torch.cat((out2d, out1d), 1)\n",
    "        out = torch.unsqueeze(out, 1)\n",
    "        out = torch.unsqueeze(out, 3)\n",
    "        return out\n",
    "        \n",
    "        \n",
    "\n",
    "class Net(nn.Module):\n",
    "    def __init__(self):\n",
    "        super(Net, self).__init__()\n",
    "        self.seq11 = nn.Sequential( # 1, 16, 1\n",
    "            nn.Conv2d(1, 16, 3, padding=(1, 2)), # 16, 16, 3\n",
    "            nn.Conv2d(16, 32, 5, padding=(2, 3)), # 32, 16, 5\n",
    "            nn.MaxPool2d((2,1)), # 32, 8, 5\n",
    "            nn.ReLU(),\n",
    "            nn.Conv2d(32, 64, 5, padding=(2, 4)),\n",
    "            nn.MaxPool2d(2), \n",
    "            nn.ReLU(),\n",
    "        ) # 64, 4, 4\n",
    "        \n",
    "        self.seq21 = nn.Sequential( # 1, 9, 60\n",
    "            nn.Conv2d(1, 8, 5, padding=3),\n",
    "            nn.Conv2d(8, 16, 5, padding=3),\n",
    "            nn.MaxPool2d(2),\n",
    "            nn.ReLU(),\n",
    "            nn.Conv2d(16, 32, 5, padding=3),\n",
    "            nn.MaxPool2d(2),\n",
    "            nn.ReLU(),\n",
    "            nn.Conv2d(32, 64, 3, padding=1),\n",
    "            nn.MaxPool2d(2),\n",
    "            nn.ReLU(),\n",
    "        ) # 64, 2, 8\n",
    "        self.seq22 = nn.Sequential(\n",
    "            nn.Conv2d(64, 128, 3, padding=(2,3)),\n",
    "            nn.MaxPool2d(2),\n",
    "            nn.ReLU(),\n",
    "            nn.Conv2d(128, 256, 3, padding=(2,2)),\n",
    "            nn.MaxPool2d((1,2)),\n",
    "            nn.ReLU()\n",
    "        ) # 256, 4, 4\n",
    "        \n",
    "        self.concat = nn.Sequential(\n",
    "            nn.Conv2d(320, 320, 5, padding=4),\n",
    "            nn.MaxPool2d(2),\n",
    "            nn.ReLU(),\n",
    "        )\n",
    "        \n",
    "        self.ups1 = nn.Sequential(\n",
    "            nn.Conv2d(320, 1, 1),\n",
    "            TransConv(1, 1, (32, 64), padding=(25,8), stride=(8,4)),\n",
    "        )\n",
    "        \n",
    "        self.mlp = nn.Sequential(\n",
    "            nn.Flatten(),\n",
    "            nn.LazyLinear(144),\n",
    "            nn.LazyLinear(84),\n",
    "            nn.LazyLinear(8),\n",
    "        )\n",
    "        \n",
    "        self.flatten = Flatten()\n",
    "        \n",
    "    \n",
    "    def forward(self, x):\n",
    "        t1d, t2d = x[0], x[1]\n",
    "        t1d = self.seq11(t1d)\n",
    "        t2d = self.seq21(t2d)\n",
    "        t2d = self.seq22(t2d)\n",
    "        tsr = torch.cat([t1d,t2d], 1)\n",
    "        tsr = self.concat(tsr)\n",
    "        out1 = self.mlp(tsr)\n",
    "        out1 = torch.unsqueeze(out1, 1)  # 添加一个额外的维度\n",
    "        out1 = torch.unsqueeze(out1, 3)  # 添加另一个额外的维度\n",
    "        out2 = self.ups1(tsr)\n",
    "        out = (out1, out2)   \n",
    "        out = self.flatten(out)\n",
    "        return out\n",
    "    \n"
   ]
  },
  {
   "cell_type": "code",
   "execution_count": 13,
   "id": "12afaa46",
   "metadata": {
    "execution": {
     "iopub.execute_input": "2024-05-02T16:13:54.805508Z",
     "iopub.status.busy": "2024-05-02T16:13:54.805157Z",
     "iopub.status.idle": "2024-05-02T16:13:55.214920Z",
     "shell.execute_reply": "2024-05-02T16:13:55.213755Z"
    },
    "papermill": {
     "duration": 0.429056,
     "end_time": "2024-05-02T16:13:55.217809",
     "exception": false,
     "start_time": "2024-05-02T16:13:54.788753",
     "status": "completed"
    },
    "tags": []
   },
   "outputs": [
    {
     "name": "stderr",
     "output_type": "stream",
     "text": [
      "/opt/conda/lib/python3.10/site-packages/torch/nn/modules/lazy.py:180: UserWarning: Lazy modules are a new feature under heavy development so changes to the API or functionality can happen at any moment.\n",
      "  warnings.warn('Lazy modules are a new feature under heavy development '\n"
     ]
    },
    {
     "data": {
      "text/plain": [
       "<All keys matched successfully>"
      ]
     },
     "execution_count": 13,
     "metadata": {},
     "output_type": "execute_result"
    }
   ],
   "source": [
    "net = Net().to(device)\n",
    "weights = torch.load('/kaggle/input/atmospred/pytorch/trained.pth/1/20240502-001.pth', map_location=device)\n",
    "net.load_state_dict(weights)"
   ]
  },
  {
   "cell_type": "code",
   "execution_count": 14,
   "id": "07d83822",
   "metadata": {
    "execution": {
     "iopub.execute_input": "2024-05-02T16:13:55.256539Z",
     "iopub.status.busy": "2024-05-02T16:13:55.256201Z",
     "iopub.status.idle": "2024-05-02T16:13:55.264964Z",
     "shell.execute_reply": "2024-05-02T16:13:55.264009Z"
    },
    "papermill": {
     "duration": 0.027515,
     "end_time": "2024-05-02T16:13:55.266958",
     "exception": false,
     "start_time": "2024-05-02T16:13:55.239443",
     "status": "completed"
    },
    "tags": []
   },
   "outputs": [
    {
     "name": "stdout",
     "output_type": "stream",
     "text": [
      "torch.Size([2, 1, 368, 1])\n"
     ]
    }
   ],
   "source": [
    "ttensor = [torch.rand(2, 1, 8, 1), torch.rand(2, 1, 6, 60)]\n",
    "print(net.flatten(ttensor).shape)\n",
    "del(ttensor) # 清理"
   ]
  },
  {
   "cell_type": "code",
   "execution_count": 15,
   "id": "4edef445",
   "metadata": {
    "execution": {
     "iopub.execute_input": "2024-05-02T16:13:55.299262Z",
     "iopub.status.busy": "2024-05-02T16:13:55.298485Z",
     "iopub.status.idle": "2024-05-02T16:13:55.304251Z",
     "shell.execute_reply": "2024-05-02T16:13:55.303337Z"
    },
    "papermill": {
     "duration": 0.023743,
     "end_time": "2024-05-02T16:13:55.306097",
     "exception": false,
     "start_time": "2024-05-02T16:13:55.282354",
     "status": "completed"
    },
    "tags": []
   },
   "outputs": [],
   "source": [
    "import torch.optim as optim\n",
    "\n",
    "# def criterion(pred, target):\n",
    "#     loss1 = torch.mean((pred[0] - target[0])**2)\n",
    "#     loss2 = torch.mean((pred[1] - target[1])**2)\n",
    "#     loss = loss1 + loss2\n",
    "#     return loss\n",
    "\n",
    "criterion = nn.MSELoss()\n",
    "    \n",
    "optimizer = optim.Adam(net.parameters(), lr=lr)"
   ]
  },
  {
   "cell_type": "code",
   "execution_count": 16,
   "id": "153546bf",
   "metadata": {
    "execution": {
     "iopub.execute_input": "2024-05-02T16:13:55.380259Z",
     "iopub.status.busy": "2024-05-02T16:13:55.379675Z",
     "iopub.status.idle": "2024-05-02T16:13:55.394580Z",
     "shell.execute_reply": "2024-05-02T16:13:55.393745Z"
    },
    "papermill": {
     "duration": 0.033456,
     "end_time": "2024-05-02T16:13:55.396419",
     "exception": false,
     "start_time": "2024-05-02T16:13:55.362963",
     "status": "completed"
    },
    "tags": []
   },
   "outputs": [],
   "source": [
    "import matplotlib.pyplot as plt\n",
    "%matplotlib inline\n",
    "\n",
    "def graph(acc, loss, title):\n",
    "    \"\"\" 绘制准确率和损失曲线\n",
    "\n",
    "    Args:\n",
    "        acc (list): [train, val]/[test]\n",
    "        loss (list): [train, val]/[test]\n",
    "        title (str): Title\n",
    "    \"\"\"\n",
    "    assert len(acc) == len(loss), 'Length of acc and loss must be the same'\n",
    "    global save_run_dir\n",
    "    if len(acc) == 2:\n",
    "        plt.subplot(1, 2, 1)\n",
    "        plt.plot(acc[0], label='Training Accuracy')\n",
    "        plt.plot(acc[1], label='Validation Accuracy')\n",
    "        plt.title(title)\n",
    "        plt.ylabel('Accuracy')\n",
    "        plt.xlabel('Epoch')\n",
    "        plt.legend()\n",
    "        plt.subplot(1, 2, 2)\n",
    "        plt.plot(loss[0], label='Training Loss')\n",
    "        plt.plot(loss[1], label='Validation Loss')\n",
    "        plt.ylabel('Loss')\n",
    "        plt.xlabel('Epoch')\n",
    "        plt.legend()\n",
    "    elif len(acc) == 1:\n",
    "        plt.subplot(2, 1, 1)\n",
    "        plt.plot(acc[0], label='Test Accuracy')\n",
    "        plt.title(title)\n",
    "        plt.ylabel('Accuracy')\n",
    "        plt.xlabel('Epoch')\n",
    "        plt.legend()\n",
    "        plt.subplot(2, 1, 2)\n",
    "        plt.plot(loss[0], label='Test Loss')\n",
    "        plt.ylabel('Loss')\n",
    "        plt.xlabel('Epoch')\n",
    "        plt.legend()\n",
    "    plt.show()"
   ]
  },
  {
   "cell_type": "code",
   "execution_count": 17,
   "id": "008120a3",
   "metadata": {
    "execution": {
     "iopub.execute_input": "2024-05-02T16:13:55.429671Z",
     "iopub.status.busy": "2024-05-02T16:13:55.428767Z",
     "iopub.status.idle": "2024-05-02T16:13:55.441232Z",
     "shell.execute_reply": "2024-05-02T16:13:55.440169Z"
    },
    "papermill": {
     "duration": 0.030984,
     "end_time": "2024-05-02T16:13:55.443228",
     "exception": false,
     "start_time": "2024-05-02T16:13:55.412244",
     "status": "completed"
    },
    "tags": []
   },
   "outputs": [
    {
     "name": "stdout",
     "output_type": "stream",
     "text": [
      "tensor([1, 2, 3, 4]) tensor([2, 2, 3, 4]) 0.9841269850730896\n"
     ]
    }
   ],
   "source": [
    "def r2accu(pred, targ):\n",
    "    residual_err = pred - targ\n",
    "    err_sq = residual_err ** 2\n",
    "    ss_res = torch.sum(err_sq)\n",
    "    ss_tot = torch.sum(pred ** 2 + targ ** 2)\n",
    "    r_2 = 1 - (ss_res / ss_tot)\n",
    "    return r_2.item()\n",
    "\n",
    "ts1, ts2 = torch.tensor((1,2,3,4)), torch.tensor((2,2,3,4))\n",
    "print(ts1, ts2, r2accu(ts1, ts2))\n",
    "\n",
    "del(ts1)\n",
    "del(ts2)"
   ]
  },
  {
   "cell_type": "code",
   "execution_count": 18,
   "id": "8cb5f278",
   "metadata": {
    "execution": {
     "iopub.execute_input": "2024-05-02T16:13:55.476851Z",
     "iopub.status.busy": "2024-05-02T16:13:55.476540Z",
     "iopub.status.idle": "2024-05-02T16:13:55.481146Z",
     "shell.execute_reply": "2024-05-02T16:13:55.480230Z"
    },
    "papermill": {
     "duration": 0.023631,
     "end_time": "2024-05-02T16:13:55.483126",
     "exception": false,
     "start_time": "2024-05-02T16:13:55.459495",
     "status": "completed"
    },
    "tags": []
   },
   "outputs": [],
   "source": [
    "num_epochs = 10 \n",
    "\n",
    "# ----------------------\n",
    "\n",
    "lowest_loss = float('inf')\n",
    "\n",
    "accus, losses = [[],[]], [[],[]]"
   ]
  },
  {
   "cell_type": "code",
   "execution_count": 19,
   "id": "98ec7929",
   "metadata": {
    "execution": {
     "iopub.execute_input": "2024-05-02T16:13:55.516407Z",
     "iopub.status.busy": "2024-05-02T16:13:55.515401Z",
     "iopub.status.idle": "2024-05-02T16:22:06.598871Z",
     "shell.execute_reply": "2024-05-02T16:22:06.597886Z"
    },
    "papermill": {
     "duration": 491.102375,
     "end_time": "2024-05-02T16:22:06.600951",
     "exception": false,
     "start_time": "2024-05-02T16:13:55.498576",
     "status": "completed"
    },
    "tags": []
   },
   "outputs": [
    {
     "name": "stderr",
     "output_type": "stream",
     "text": [
      "100%|██████████| 175/175 [00:41<00:00,  4.18it/s]\n",
      "100%|██████████| 50/50 [00:11<00:00,  4.18it/s]\n"
     ]
    },
    {
     "name": "stdout",
     "output_type": "stream",
     "text": [
      "Epoch 1 > Time Cost: 53.91s \n",
      "\t Train Loss: 782.074 | Val Loss: 44.260\n",
      "\t Train Accu: 0.857 | Val Accu: 0.967\n"
     ]
    },
    {
     "name": "stderr",
     "output_type": "stream",
     "text": [
      "100%|██████████| 175/175 [00:36<00:00,  4.83it/s]\n",
      "100%|██████████| 50/50 [00:11<00:00,  4.20it/s]\n"
     ]
    },
    {
     "name": "stdout",
     "output_type": "stream",
     "text": [
      "Epoch 2 > Time Cost: 48.22s \n",
      "\t Train Loss: 42.538 | Val Loss: 40.177\n",
      "\t Train Accu: 0.968 | Val Accu: 0.970\n"
     ]
    },
    {
     "name": "stderr",
     "output_type": "stream",
     "text": [
      "100%|██████████| 175/175 [00:36<00:00,  4.86it/s]\n",
      "100%|██████████| 50/50 [00:11<00:00,  4.24it/s]\n"
     ]
    },
    {
     "name": "stdout",
     "output_type": "stream",
     "text": [
      "Epoch 3 > Time Cost: 47.87s \n",
      "\t Train Loss: 40.349 | Val Loss: 38.871\n",
      "\t Train Accu: 0.970 | Val Accu: 0.971\n"
     ]
    },
    {
     "name": "stderr",
     "output_type": "stream",
     "text": [
      "100%|██████████| 175/175 [00:35<00:00,  4.88it/s]\n",
      "100%|██████████| 50/50 [00:11<00:00,  4.28it/s]\n"
     ]
    },
    {
     "name": "stdout",
     "output_type": "stream",
     "text": [
      "Epoch 4 > Time Cost: 47.59s \n",
      "\t Train Loss: 39.809 | Val Loss: 37.938\n",
      "\t Train Accu: 0.970 | Val Accu: 0.971\n"
     ]
    },
    {
     "name": "stderr",
     "output_type": "stream",
     "text": [
      "100%|██████████| 175/175 [00:36<00:00,  4.83it/s]\n",
      "100%|██████████| 50/50 [00:11<00:00,  4.20it/s]\n"
     ]
    },
    {
     "name": "stdout",
     "output_type": "stream",
     "text": [
      "Epoch 5 > Time Cost: 48.14s \n",
      "\t Train Loss: 38.653 | Val Loss: 38.593\n",
      "\t Train Accu: 0.971 | Val Accu: 0.971\n"
     ]
    },
    {
     "name": "stderr",
     "output_type": "stream",
     "text": [
      "100%|██████████| 175/175 [00:36<00:00,  4.86it/s]\n",
      "100%|██████████| 50/50 [00:11<00:00,  4.25it/s]\n"
     ]
    },
    {
     "name": "stdout",
     "output_type": "stream",
     "text": [
      "Epoch 6 > Time Cost: 47.82s \n",
      "\t Train Loss: 38.125 | Val Loss: 37.272\n",
      "\t Train Accu: 0.972 | Val Accu: 0.973\n"
     ]
    },
    {
     "name": "stderr",
     "output_type": "stream",
     "text": [
      "100%|██████████| 175/175 [00:40<00:00,  4.32it/s]\n",
      "100%|██████████| 50/50 [00:11<00:00,  4.31it/s]\n"
     ]
    },
    {
     "name": "stdout",
     "output_type": "stream",
     "text": [
      "Epoch 7 > Time Cost: 52.11s \n",
      "\t Train Loss: 36.933 | Val Loss: 38.593\n",
      "\t Train Accu: 0.973 | Val Accu: 0.972\n"
     ]
    },
    {
     "name": "stderr",
     "output_type": "stream",
     "text": [
      "100%|██████████| 175/175 [00:36<00:00,  4.83it/s]\n",
      "100%|██████████| 50/50 [00:12<00:00,  4.09it/s]\n"
     ]
    },
    {
     "name": "stdout",
     "output_type": "stream",
     "text": [
      "Epoch 8 > Time Cost: 48.44s \n",
      "\t Train Loss: 35.905 | Val Loss: 37.796\n",
      "\t Train Accu: 0.973 | Val Accu: 0.973\n"
     ]
    },
    {
     "name": "stderr",
     "output_type": "stream",
     "text": [
      "100%|██████████| 175/175 [00:36<00:00,  4.84it/s]\n",
      "100%|██████████| 50/50 [00:11<00:00,  4.25it/s]\n"
     ]
    },
    {
     "name": "stdout",
     "output_type": "stream",
     "text": [
      "Epoch 9 > Time Cost: 47.98s \n",
      "\t Train Loss: 35.395 | Val Loss: 34.650\n",
      "\t Train Accu: 0.974 | Val Accu: 0.973\n"
     ]
    },
    {
     "name": "stderr",
     "output_type": "stream",
     "text": [
      "100%|██████████| 175/175 [00:36<00:00,  4.82it/s]\n",
      "100%|██████████| 50/50 [00:12<00:00,  4.12it/s]\n"
     ]
    },
    {
     "name": "stdout",
     "output_type": "stream",
     "text": [
      "Epoch 10 > Time Cost: 48.49s \n",
      "\t Train Loss: 34.012 | Val Loss: 32.079\n",
      "\t Train Accu: 0.975 | Val Accu: 0.976\n",
      "1 Train 10 epochs Time Cost: 490.574s\n"
     ]
    },
    {
     "data": {
      "image/png": "[encoded data removed]",
      "text/plain": [
       "<Figure size 640x480 with 2 Axes>"
      ]
     },
     "metadata": {},
     "output_type": "display_data"
    }
   ],
   "source": [
    "timer.start(f'Train {num_epochs} epochs')\n",
    "for epoch in range(num_epochs):\n",
    "    t0 = time.time()\n",
    "    net.train()\n",
    "    train_loss = 0.0\n",
    "    train_accu = 0.0\n",
    "    num_train_batches = 0\n",
    "\n",
    "    for inp, outp in tqdm(train_loader):\n",
    "        inp, outp = [inps.to(device, non_blocking=True) for inps in inp], outp.to(device)\n",
    "        out_h = net(inp)\n",
    "        crit = criterion(out_h, outp)\n",
    "        loss = crit.item()\n",
    "        train_loss += loss\n",
    "        accu = r2accu(out_h, outp)\n",
    "        train_accu += accu\n",
    "        crit.backward()\n",
    "        optimizer.step()\n",
    "        optimizer.zero_grad()\n",
    "        num_train_batches += 1\n",
    "    avg_train_loss = train_loss / num_train_batches\n",
    "    losses[0].append(avg_train_loss)\n",
    "    avg_train_accu = train_accu / num_train_batches\n",
    "    accus[0].append(avg_train_accu)\n",
    "\n",
    "    net.eval()\n",
    "    val_loss = 0.0\n",
    "    val_accu = 0.0\n",
    "    num_val_batches = 0\n",
    "\n",
    "    with torch.no_grad():\n",
    "        for inp, outp in tqdm(val_loader):\n",
    "            inp, outp = [inps.to(device, non_blocking=True) for inps in inp], outp.to(device)\n",
    "            out_h = net(inp)\n",
    "            crit = criterion(out_h, outp)\n",
    "            val_loss += crit.item()\n",
    "            accu = r2accu(out_h, outp)\n",
    "            val_accu += accu\n",
    "            num_val_batches += 1\n",
    "\n",
    "    avg_val_loss = val_loss / num_val_batches\n",
    "    losses[1].append(avg_val_loss)\n",
    "    avg_val_accu = val_accu / num_val_batches\n",
    "    accus[1].append(avg_val_accu)\n",
    "    \n",
    "    if avg_val_loss < lowest_loss:\n",
    "        torch.save(net.state_dict(), 'best.pth')  # 保存模型参数而不是整个模型\n",
    "        lowest_loss = avg_val_loss\n",
    "\n",
    "    t1 = time.time()\n",
    "    print(f'Epoch {epoch + 1} > Time Cost: {t1-t0:.2f}s \\n\\t', \n",
    "          f'Train Loss: {avg_train_loss:.3f} | Val Loss: {avg_val_loss:.3f}\\n\\t',\n",
    "          f'Train Accu: {avg_train_accu:.3f} | Val Accu: {avg_val_accu:.3f}')\n",
    "torch.save(net.state_dict(), \"latest.pth\") \n",
    "timer.stop()\n",
    "graph(accus, losses, 'Train')"
   ]
  },
  {
   "cell_type": "code",
   "execution_count": 20,
   "id": "27bdec55",
   "metadata": {
    "execution": {
     "iopub.execute_input": "2024-05-02T16:22:06.782942Z",
     "iopub.status.busy": "2024-05-02T16:22:06.782247Z",
     "iopub.status.idle": "2024-05-02T16:22:06.787403Z",
     "shell.execute_reply": "2024-05-02T16:22:06.786472Z"
    },
    "papermill": {
     "duration": 0.098063,
     "end_time": "2024-05-02T16:22:06.789331",
     "exception": false,
     "start_time": "2024-05-02T16:22:06.691268",
     "status": "completed"
    },
    "tags": []
   },
   "outputs": [],
   "source": [
    "# 清理\n",
    "del(inp)\n",
    "del(outp)\n",
    "del(train_dataset)\n",
    "del(train_loader)\n",
    "del(val_dataset)\n",
    "del(val_loader)\n"
   ]
  },
  {
   "cell_type": "markdown",
   "id": "ec32a814",
   "metadata": {
    "papermill": {
     "duration": 0.088328,
     "end_time": "2024-05-02T16:22:06.966458",
     "exception": false,
     "start_time": "2024-05-02T16:22:06.878130",
     "status": "completed"
    },
    "tags": []
   },
   "source": [
    "# Test Model"
   ]
  },
  {
   "cell_type": "code",
   "execution_count": 21,
   "id": "3c5882f1",
   "metadata": {
    "execution": {
     "iopub.execute_input": "2024-05-02T16:22:07.145225Z",
     "iopub.status.busy": "2024-05-02T16:22:07.144557Z",
     "iopub.status.idle": "2024-05-02T16:22:07.149904Z",
     "shell.execute_reply": "2024-05-02T16:22:07.149031Z"
    },
    "papermill": {
     "duration": 0.097408,
     "end_time": "2024-05-02T16:22:07.152086",
     "exception": false,
     "start_time": "2024-05-02T16:22:07.054678",
     "status": "completed"
    },
    "tags": []
   },
   "outputs": [
    {
     "name": "stdout",
     "output_type": "stream",
     "text": [
      "Latest net released!\n"
     ]
    }
   ],
   "source": [
    "try:\n",
    "    del(net)\n",
    "    print('Latest net released!')\n",
    "except:\n",
    "    print('No model trained')"
   ]
  },
  {
   "cell_type": "code",
   "execution_count": 22,
   "id": "7c8540bd",
   "metadata": {
    "execution": {
     "iopub.execute_input": "2024-05-02T16:22:07.330768Z",
     "iopub.status.busy": "2024-05-02T16:22:07.330399Z",
     "iopub.status.idle": "2024-05-02T16:22:07.381037Z",
     "shell.execute_reply": "2024-05-02T16:22:07.380010Z"
    },
    "papermill": {
     "duration": 0.14269,
     "end_time": "2024-05-02T16:22:07.383191",
     "exception": false,
     "start_time": "2024-05-02T16:22:07.240501",
     "status": "completed"
    },
    "tags": []
   },
   "outputs": [
    {
     "name": "stdout",
     "output_type": "stream",
     "text": [
      "Load best model.\n"
     ]
    }
   ],
   "source": [
    "net = Net().to(device)\n",
    "# net.load_state_dict(torch.load('/kaggle/input/atmospred/pytorch/trained.pth/1/20240502-001.pth', map_location=device))\n",
    "net.load_state_dict(torch.load('best.pth', map_location=device))\n",
    "print('Load best model.')"
   ]
  },
  {
   "cell_type": "code",
   "execution_count": 23,
   "id": "d2d137a6",
   "metadata": {
    "execution": {
     "iopub.execute_input": "2024-05-02T16:22:07.563811Z",
     "iopub.status.busy": "2024-05-02T16:22:07.563449Z",
     "iopub.status.idle": "2024-05-02T16:22:07.568957Z",
     "shell.execute_reply": "2024-05-02T16:22:07.567891Z"
    },
    "papermill": {
     "duration": 0.098333,
     "end_time": "2024-05-02T16:22:07.571474",
     "exception": false,
     "start_time": "2024-05-02T16:22:07.473141",
     "status": "completed"
    },
    "tags": []
   },
   "outputs": [
    {
     "name": "stdout",
     "output_type": "stream",
     "text": [
      "len(test_dataset) = 5000\n"
     ]
    }
   ],
   "source": [
    "test_dataset = MyDataset(test_in, test_out)\n",
    "test_loader = DataLoader(test_dataset, batch_size = batch_size, shuffle=True, num_workers=num_workers, pin_memory=True)\n",
    "print(f'{len(test_dataset) = }')"
   ]
  },
  {
   "cell_type": "code",
   "execution_count": 24,
   "id": "5be8531d",
   "metadata": {
    "execution": {
     "iopub.execute_input": "2024-05-02T16:22:07.751786Z",
     "iopub.status.busy": "2024-05-02T16:22:07.751435Z",
     "iopub.status.idle": "2024-05-02T16:22:15.188542Z",
     "shell.execute_reply": "2024-05-02T16:22:15.187402Z"
    },
    "papermill": {
     "duration": 7.530639,
     "end_time": "2024-05-02T16:22:15.190548",
     "exception": false,
     "start_time": "2024-05-02T16:22:07.659909",
     "status": "completed"
    },
    "tags": []
   },
   "outputs": [
    {
     "name": "stderr",
     "output_type": "stream",
     "text": [
      "100%|██████████| 25/25 [00:07<00:00,  3.37it/s]"
     ]
    },
    {
     "name": "stdout",
     "output_type": "stream",
     "text": [
      "Test Loss: 32.298 | Test Accu: 0.976\n",
      "2 Run Time Cost: 7.430s\n"
     ]
    },
    {
     "name": "stderr",
     "output_type": "stream",
     "text": [
      "\n"
     ]
    }
   ],
   "source": [
    "timer.start()\n",
    "net.eval()\n",
    "test_loss = 0.0\n",
    "test_accu = 0.0\n",
    "num_test_batches = 0\n",
    "\n",
    "with torch.no_grad():\n",
    "    for i, (inp, outp) in enumerate(tqdm(test_loader)):\n",
    "        inp, outp = [inps.to(device, non_blocking=True) for inps in inp], outp.to(device)\n",
    "        out_h = net(inp)\n",
    "        crit = criterion(out_h, outp)\n",
    "        test_loss += crit.item()\n",
    "        test_accu += r2accu(out_h, outp)\n",
    "        num_test_batches += 1\n",
    "\n",
    "avg_test_loss = test_loss / num_test_batches\n",
    "avg_test_accu = test_accu / num_test_batches\n",
    "\n",
    "print(f'Test Loss: {avg_test_loss:.3f} | Test Accu: {avg_test_accu:.3f}')\n",
    "timer.stop()"
   ]
  },
  {
   "cell_type": "code",
   "execution_count": 25,
   "id": "18501e95",
   "metadata": {
    "execution": {
     "iopub.execute_input": "2024-05-02T16:22:15.373558Z",
     "iopub.status.busy": "2024-05-02T16:22:15.372652Z",
     "iopub.status.idle": "2024-05-02T16:22:15.378800Z",
     "shell.execute_reply": "2024-05-02T16:22:15.378086Z"
    },
    "papermill": {
     "duration": 0.099895,
     "end_time": "2024-05-02T16:22:15.380598",
     "exception": false,
     "start_time": "2024-05-02T16:22:15.280703",
     "status": "completed"
    },
    "tags": []
   },
   "outputs": [],
   "source": [
    "# 清理变量\n",
    "del(test_dataset)\n",
    "del(test_loader)\n",
    "del(out_h)\n",
    "del(inp, outp)"
   ]
  },
  {
   "cell_type": "markdown",
   "id": "c75171fb",
   "metadata": {
    "papermill": {
     "duration": 0.102315,
     "end_time": "2024-05-02T16:22:15.573520",
     "exception": false,
     "start_time": "2024-05-02T16:22:15.471205",
     "status": "completed"
    },
    "tags": []
   },
   "source": [
    "# Read test input data\n",
    "\n",
    "I didn't learn about Polars, but i heard it faster than pandas. So in this part I want to try polars instead of pandas. \n",
    "\n",
    "If everything goes well, i may switch the former pandas operations to polars. "
   ]
  },
  {
   "cell_type": "code",
   "execution_count": 26,
   "id": "dda37ab8",
   "metadata": {
    "execution": {
     "iopub.execute_input": "2024-05-02T16:22:15.772074Z",
     "iopub.status.busy": "2024-05-02T16:22:15.771090Z",
     "iopub.status.idle": "2024-05-02T16:23:01.195556Z",
     "shell.execute_reply": "2024-05-02T16:23:01.194634Z"
    },
    "papermill": {
     "duration": 45.610905,
     "end_time": "2024-05-02T16:23:01.286298",
     "exception": false,
     "start_time": "2024-05-02T16:22:15.675393",
     "status": "completed"
    },
    "tags": []
   },
   "outputs": [
    {
     "name": "stdout",
     "output_type": "stream",
     "text": [
      "3 Run Time Cost: 45.417s\n"
     ]
    }
   ],
   "source": [
    "import polars as pl\n",
    "\n",
    "timer.start()\n",
    "subm_set = pl.read_csv(test_csv)\n",
    "subm_multip = pl.read_csv(subm_spl)\n",
    "timer.stop()\n",
    "sample_cols = subm_multip.columns"
   ]
  },
  {
   "cell_type": "code",
   "execution_count": 27,
   "id": "a6876324",
   "metadata": {
    "execution": {
     "iopub.execute_input": "2024-05-02T16:23:01.466363Z",
     "iopub.status.busy": "2024-05-02T16:23:01.466032Z",
     "iopub.status.idle": "2024-05-02T16:23:01.494071Z",
     "shell.execute_reply": "2024-05-02T16:23:01.493191Z"
    },
    "papermill": {
     "duration": 0.121201,
     "end_time": "2024-05-02T16:23:01.496066",
     "exception": false,
     "start_time": "2024-05-02T16:23:01.374865",
     "status": "completed"
    },
    "tags": []
   },
   "outputs": [
    {
     "data": {
      "text/html": [
       "<div><style>\n",
       ".dataframe > thead > tr,\n",
       ".dataframe > tbody > tr {\n",
       "  text-align: right;\n",
       "  white-space: pre-wrap;\n",
       "}\n",
       "</style>\n",
       "<small>shape: (2, 369)</small><table border=\"1\" class=\"dataframe\"><thead><tr><th>sample_id</th><th>ptend_t_0</th><th>ptend_t_1</th><th>ptend_t_2</th><th>ptend_t_3</th><th>ptend_t_4</th><th>ptend_t_5</th><th>ptend_t_6</th><th>ptend_t_7</th><th>ptend_t_8</th><th>ptend_t_9</th><th>ptend_t_10</th><th>ptend_t_11</th><th>ptend_t_12</th><th>ptend_t_13</th><th>ptend_t_14</th><th>ptend_t_15</th><th>ptend_t_16</th><th>ptend_t_17</th><th>ptend_t_18</th><th>ptend_t_19</th><th>ptend_t_20</th><th>ptend_t_21</th><th>ptend_t_22</th><th>ptend_t_23</th><th>ptend_t_24</th><th>ptend_t_25</th><th>ptend_t_26</th><th>ptend_t_27</th><th>ptend_t_28</th><th>ptend_t_29</th><th>ptend_t_30</th><th>ptend_t_31</th><th>ptend_t_32</th><th>ptend_t_33</th><th>ptend_t_34</th><th>ptend_t_35</th><th>&hellip;</th><th>ptend_v_31</th><th>ptend_v_32</th><th>ptend_v_33</th><th>ptend_v_34</th><th>ptend_v_35</th><th>ptend_v_36</th><th>ptend_v_37</th><th>ptend_v_38</th><th>ptend_v_39</th><th>ptend_v_40</th><th>ptend_v_41</th><th>ptend_v_42</th><th>ptend_v_43</th><th>ptend_v_44</th><th>ptend_v_45</th><th>ptend_v_46</th><th>ptend_v_47</th><th>ptend_v_48</th><th>ptend_v_49</th><th>ptend_v_50</th><th>ptend_v_51</th><th>ptend_v_52</th><th>ptend_v_53</th><th>ptend_v_54</th><th>ptend_v_55</th><th>ptend_v_56</th><th>ptend_v_57</th><th>ptend_v_58</th><th>ptend_v_59</th><th>cam_out_NETSW</th><th>cam_out_FLWDS</th><th>cam_out_PRECSC</th><th>cam_out_PRECC</th><th>cam_out_SOLS</th><th>cam_out_SOLL</th><th>cam_out_SOLSD</th><th>cam_out_SOLLD</th></tr><tr><td>str</td><td>f64</td><td>f64</td><td>f64</td><td>f64</td><td>f64</td><td>f64</td><td>f64</td><td>f64</td><td>f64</td><td>f64</td><td>f64</td><td>f64</td><td>f64</td><td>f64</td><td>f64</td><td>f64</td><td>f64</td><td>f64</td><td>f64</td><td>f64</td><td>f64</td><td>f64</td><td>f64</td><td>f64</td><td>f64</td><td>f64</td><td>f64</td><td>f64</td><td>f64</td><td>f64</td><td>f64</td><td>f64</td><td>f64</td><td>f64</td><td>f64</td><td>f64</td><td>&hellip;</td><td>f64</td><td>f64</td><td>f64</td><td>f64</td><td>f64</td><td>f64</td><td>f64</td><td>f64</td><td>f64</td><td>f64</td><td>f64</td><td>f64</td><td>f64</td><td>f64</td><td>f64</td><td>f64</td><td>f64</td><td>f64</td><td>f64</td><td>f64</td><td>f64</td><td>f64</td><td>f64</td><td>f64</td><td>f64</td><td>f64</td><td>f64</td><td>f64</td><td>f64</td><td>f64</td><td>f64</td><td>f64</td><td>f64</td><td>f64</td><td>f64</td><td>f64</td><td>f64</td></tr></thead><tbody><tr><td>&quot;test_169651&quot;</td><td>30981.265272</td><td>22502.432414</td><td>18894.14713</td><td>14514.244731</td><td>10944.348069</td><td>9065.01072</td><td>9663.669039</td><td>12688.557363</td><td>19890.172265</td><td>25831.373172</td><td>33890.367562</td><td>44122.94111</td><td>59811.255951</td><td>79434.075001</td><td>107358.809169</td><td>135720.841835</td><td>149399.841111</td><td>128492.951853</td><td>91746.236873</td><td>72748.769111</td><td>66531.535968</td><td>62932.305984</td><td>56610.268743</td><td>49473.143692</td><td>43029.184954</td><td>36912.674919</td><td>31486.931179</td><td>26898.072997</td><td>23316.638283</td><td>20459.731332</td><td>18385.683096</td><td>17111.405108</td><td>16337.80992</td><td>15857.759882</td><td>15580.902485</td><td>15497.59046</td><td>&hellip;</td><td>122460.653992</td><td>132086.693875</td><td>141041.48571</td><td>146354.094413</td><td>145953.095901</td><td>139496.800789</td><td>128508.851082</td><td>116665.517697</td><td>107458.397063</td><td>100259.972367</td><td>94108.98505</td><td>88439.894562</td><td>82734.902766</td><td>77061.086214</td><td>71333.531924</td><td>65999.725321</td><td>61798.997206</td><td>58237.35642</td><td>54715.102663</td><td>50825.844317</td><td>46059.176887</td><td>40740.260504</td><td>36335.802283</td><td>33981.575686</td><td>33589.714339</td><td>33988.885241</td><td>36272.936451</td><td>41183.344137</td><td>29194.123693</td><td>0.004054</td><td>0.013882</td><td>1.3513e8</td><td>1.2220e7</td><td>0.009071</td><td>0.00859</td><td>0.021537</td><td>0.033632</td></tr><tr><td>&quot;test_524862&quot;</td><td>30981.265272</td><td>22502.432414</td><td>18894.14713</td><td>14514.244731</td><td>10944.348069</td><td>9065.01072</td><td>9663.669039</td><td>12688.557363</td><td>19890.172265</td><td>25831.373172</td><td>33890.367562</td><td>44122.94111</td><td>59811.255951</td><td>79434.075001</td><td>107358.809169</td><td>135720.841835</td><td>149399.841111</td><td>128492.951853</td><td>91746.236873</td><td>72748.769111</td><td>66531.535968</td><td>62932.305984</td><td>56610.268743</td><td>49473.143692</td><td>43029.184954</td><td>36912.674919</td><td>31486.931179</td><td>26898.072997</td><td>23316.638283</td><td>20459.731332</td><td>18385.683096</td><td>17111.405108</td><td>16337.80992</td><td>15857.759882</td><td>15580.902485</td><td>15497.59046</td><td>&hellip;</td><td>122460.653992</td><td>132086.693875</td><td>141041.48571</td><td>146354.094413</td><td>145953.095901</td><td>139496.800789</td><td>128508.851082</td><td>116665.517697</td><td>107458.397063</td><td>100259.972367</td><td>94108.98505</td><td>88439.894562</td><td>82734.902766</td><td>77061.086214</td><td>71333.531924</td><td>65999.725321</td><td>61798.997206</td><td>58237.35642</td><td>54715.102663</td><td>50825.844317</td><td>46059.176887</td><td>40740.260504</td><td>36335.802283</td><td>33981.575686</td><td>33589.714339</td><td>33988.885241</td><td>36272.936451</td><td>41183.344137</td><td>29194.123693</td><td>0.004054</td><td>0.013882</td><td>1.3513e8</td><td>1.2220e7</td><td>0.009071</td><td>0.00859</td><td>0.021537</td><td>0.033632</td></tr></tbody></table></div>"
      ],
      "text/plain": [
       "shape: (2, 369)\n",
       "┌───────────┬───────────┬───────────┬───────────┬───┬───────────┬───────────┬───────────┬──────────┐\n",
       "│ sample_id ┆ ptend_t_0 ┆ ptend_t_1 ┆ ptend_t_2 ┆ … ┆ cam_out_S ┆ cam_out_S ┆ cam_out_S ┆ cam_out_ │\n",
       "│ ---       ┆ ---       ┆ ---       ┆ ---       ┆   ┆ OLS       ┆ OLL       ┆ OLSD      ┆ SOLLD    │\n",
       "│ str       ┆ f64       ┆ f64       ┆ f64       ┆   ┆ ---       ┆ ---       ┆ ---       ┆ ---      │\n",
       "│           ┆           ┆           ┆           ┆   ┆ f64       ┆ f64       ┆ f64       ┆ f64      │\n",
       "╞═══════════╪═══════════╪═══════════╪═══════════╪═══╪═══════════╪═══════════╪═══════════╪══════════╡\n",
       "│ test_1696 ┆ 30981.265 ┆ 22502.432 ┆ 18894.147 ┆ … ┆ 0.009071  ┆ 0.00859   ┆ 0.021537  ┆ 0.033632 │\n",
       "│ 51        ┆ 272       ┆ 414       ┆ 13        ┆   ┆           ┆           ┆           ┆          │\n",
       "│ test_5248 ┆ 30981.265 ┆ 22502.432 ┆ 18894.147 ┆ … ┆ 0.009071  ┆ 0.00859   ┆ 0.021537  ┆ 0.033632 │\n",
       "│ 62        ┆ 272       ┆ 414       ┆ 13        ┆   ┆           ┆           ┆           ┆          │\n",
       "└───────────┴───────────┴───────────┴───────────┴───┴───────────┴───────────┴───────────┴──────────┘"
      ]
     },
     "execution_count": 27,
     "metadata": {},
     "output_type": "execute_result"
    }
   ],
   "source": [
    "subm_multip.head(2)"
   ]
  },
  {
   "cell_type": "code",
   "execution_count": 28,
   "id": "142de0e1",
   "metadata": {
    "execution": {
     "iopub.execute_input": "2024-05-02T16:23:01.679662Z",
     "iopub.status.busy": "2024-05-02T16:23:01.678762Z",
     "iopub.status.idle": "2024-05-02T16:23:01.689110Z",
     "shell.execute_reply": "2024-05-02T16:23:01.688240Z"
    },
    "papermill": {
     "duration": 0.104171,
     "end_time": "2024-05-02T16:23:01.691116",
     "exception": false,
     "start_time": "2024-05-02T16:23:01.586945",
     "status": "completed"
    },
    "tags": []
   },
   "outputs": [
    {
     "data": {
      "text/plain": [
       "(625000, 556)"
      ]
     },
     "execution_count": 28,
     "metadata": {},
     "output_type": "execute_result"
    }
   ],
   "source": [
    "insts = subm_set[subm_set.columns[0]]\n",
    "subm_in = subm_set[subm_set.columns[1:]]\n",
    "subm_in.shape"
   ]
  },
  {
   "cell_type": "code",
   "execution_count": 29,
   "id": "67423eb0",
   "metadata": {
    "execution": {
     "iopub.execute_input": "2024-05-02T16:23:01.874151Z",
     "iopub.status.busy": "2024-05-02T16:23:01.873423Z",
     "iopub.status.idle": "2024-05-02T16:23:01.880936Z",
     "shell.execute_reply": "2024-05-02T16:23:01.880092Z"
    },
    "papermill": {
     "duration": 0.101767,
     "end_time": "2024-05-02T16:23:01.882702",
     "exception": false,
     "start_time": "2024-05-02T16:23:01.780935",
     "status": "completed"
    },
    "tags": []
   },
   "outputs": [],
   "source": [
    "class TestDataset(Dataset):\n",
    "    def __init__(self, dsin, transform=transforms.Compose([\n",
    "        transforms.ToTensor(),\n",
    "    ])):\n",
    "        self.dsin = dsin\n",
    "        self.transform =transform\n",
    "    \n",
    "    def __len__(self):\n",
    "        return self.dsin.shape[0]\n",
    "    \n",
    "    def __getitem__(self, x):\n",
    "        in1, in2 = convert_data(self.dsin.columns, self.dsin.row(x))\n",
    "        din = [in1[1], in2[1]]\n",
    "        \n",
    "        if self.transform:\n",
    "            din[0] = self.transform(din[0])\n",
    "            din[1] = self.transform(din[1])\n",
    "        \n",
    "        # 使用torch.unsqueeze将数组从[m, n]转换为[1, m, n]\n",
    "#         din = [torch.from_numpy(tensor) for tensor in din]\n",
    "        din = [tensor.to(torch.float32) for tensor in din]\n",
    "        \n",
    "        return din"
   ]
  },
  {
   "cell_type": "code",
   "execution_count": 30,
   "id": "15713460",
   "metadata": {
    "execution": {
     "iopub.execute_input": "2024-05-02T16:23:02.064825Z",
     "iopub.status.busy": "2024-05-02T16:23:02.064496Z",
     "iopub.status.idle": "2024-05-02T16:23:02.075718Z",
     "shell.execute_reply": "2024-05-02T16:23:02.074861Z"
    },
    "papermill": {
     "duration": 0.104187,
     "end_time": "2024-05-02T16:23:02.077497",
     "exception": false,
     "start_time": "2024-05-02T16:23:01.973310",
     "status": "completed"
    },
    "tags": []
   },
   "outputs": [
    {
     "data": {
      "text/plain": [
       "(torch.Size([1, 16, 1]), torch.Size([1, 9, 60]))"
      ]
     },
     "execution_count": 30,
     "metadata": {},
     "output_type": "execute_result"
    }
   ],
   "source": [
    "subm_dataset = TestDataset(subm_in)\n",
    "subm_dataset[0][0].shape, subm_dataset[0][1].shape"
   ]
  },
  {
   "cell_type": "markdown",
   "id": "6f9099ba",
   "metadata": {
    "papermill": {
     "duration": 0.08908,
     "end_time": "2024-05-02T16:23:02.256382",
     "exception": false,
     "start_time": "2024-05-02T16:23:02.167302",
     "status": "completed"
    },
    "tags": []
   },
   "source": [
    "# Process the output\n",
    "\n",
    "- write a function to multiply predictions with sample data\n",
    "- save file"
   ]
  },
  {
   "cell_type": "code",
   "execution_count": 31,
   "id": "f7780feb",
   "metadata": {
    "execution": {
     "iopub.execute_input": "2024-05-02T16:23:02.436372Z",
     "iopub.status.busy": "2024-05-02T16:23:02.436002Z",
     "iopub.status.idle": "2024-05-02T16:23:14.126163Z",
     "shell.execute_reply": "2024-05-02T16:23:14.125291Z"
    },
    "papermill": {
     "duration": 11.782975,
     "end_time": "2024-05-02T16:23:14.128269",
     "exception": false,
     "start_time": "2024-05-02T16:23:02.345294",
     "status": "completed"
    },
    "tags": []
   },
   "outputs": [
    {
     "data": {
      "text/plain": [
       "((625000, 369),\n",
       " array(['test_169651', 'test_524862', 'test_634129', ..., 'test_88942',\n",
       "        'test_79382', 'test_601350'], dtype=object))"
      ]
     },
     "execution_count": 31,
     "metadata": {},
     "output_type": "execute_result"
    }
   ],
   "source": [
    "# out_df = subm_multip[subm_multip.columns[1:]]\n",
    "subm_multip = subm_multip.to_numpy()\n",
    "subm_multip.shape, subm_multip[:, 0]"
   ]
  },
  {
   "cell_type": "code",
   "execution_count": 32,
   "id": "488b5cbe",
   "metadata": {
    "execution": {
     "iopub.execute_input": "2024-05-02T16:23:14.310722Z",
     "iopub.status.busy": "2024-05-02T16:23:14.310369Z",
     "iopub.status.idle": "2024-05-02T16:23:29.242094Z",
     "shell.execute_reply": "2024-05-02T16:23:29.241132Z"
    },
    "papermill": {
     "duration": 15.025184,
     "end_time": "2024-05-02T16:23:29.244121",
     "exception": false,
     "start_time": "2024-05-02T16:23:14.218937",
     "status": "completed"
    },
    "tags": []
   },
   "outputs": [
    {
     "data": {
      "text/plain": [
       "(torch.Size([625000, 368]),\n",
       " tensor([[18894.1465, 14514.2451],\n",
       "         [18894.1465, 14514.2451],\n",
       "         [18894.1465, 14514.2451]], device='cuda:0'))"
      ]
     },
     "execution_count": 32,
     "metadata": {},
     "output_type": "execute_result"
    }
   ],
   "source": [
    "out_df = subm_multip[:, 1:].astype(float)\n",
    "out_df = torch.tensor(out_df).to(device).to(torch.float32)\n",
    "out_df.shape, out_df[1:4, 2:4]"
   ]
  },
  {
   "cell_type": "code",
   "execution_count": 33,
   "id": "ba1a0c30",
   "metadata": {
    "execution": {
     "iopub.execute_input": "2024-05-02T16:23:29.428399Z",
     "iopub.status.busy": "2024-05-02T16:23:29.428039Z",
     "iopub.status.idle": "2024-05-02T16:23:29.433349Z",
     "shell.execute_reply": "2024-05-02T16:23:29.432410Z"
    },
    "papermill": {
     "duration": 0.099687,
     "end_time": "2024-05-02T16:23:29.435475",
     "exception": false,
     "start_time": "2024-05-02T16:23:29.335788",
     "status": "completed"
    },
    "tags": []
   },
   "outputs": [],
   "source": [
    "def convert_output(pred):\n",
    "    \"\"\"将输出张量转换为 dataframe 的 n 行\"\"\"\n",
    "    pred = pred.squeeze(3).squeeze(1)\n",
    "    return pred\n",
    "\n",
    "def postprocess(pred, scaler):\n",
    "    pred = convert_output(pred)\n",
    "    scaler *= pred\n",
    "    return scaler"
   ]
  },
  {
   "cell_type": "code",
   "execution_count": 34,
   "id": "724def56",
   "metadata": {
    "execution": {
     "iopub.execute_input": "2024-05-02T16:23:29.616731Z",
     "iopub.status.busy": "2024-05-02T16:23:29.616118Z",
     "iopub.status.idle": "2024-05-02T16:23:29.620193Z",
     "shell.execute_reply": "2024-05-02T16:23:29.619354Z"
    },
    "papermill": {
     "duration": 0.096881,
     "end_time": "2024-05-02T16:23:29.621926",
     "exception": false,
     "start_time": "2024-05-02T16:23:29.525045",
     "status": "completed"
    },
    "tags": []
   },
   "outputs": [],
   "source": [
    "subm_batch_size = batch_size"
   ]
  },
  {
   "cell_type": "code",
   "execution_count": 35,
   "id": "9ea1a704",
   "metadata": {
    "execution": {
     "iopub.execute_input": "2024-05-02T16:23:29.803783Z",
     "iopub.status.busy": "2024-05-02T16:23:29.803441Z",
     "iopub.status.idle": "2024-05-02T16:23:29.808617Z",
     "shell.execute_reply": "2024-05-02T16:23:29.807754Z"
    },
    "papermill": {
     "duration": 0.098417,
     "end_time": "2024-05-02T16:23:29.810449",
     "exception": false,
     "start_time": "2024-05-02T16:23:29.712032",
     "status": "completed"
    },
    "tags": []
   },
   "outputs": [],
   "source": [
    "subm_loader = DataLoader(subm_dataset, batch_size = subm_batch_size, shuffle=False, num_workers=num_workers, pin_memory=True)\n",
    "result = None\n",
    "data_len = len(subm_loader)"
   ]
  },
  {
   "cell_type": "code",
   "execution_count": 36,
   "id": "2eff5661",
   "metadata": {
    "execution": {
     "iopub.execute_input": "2024-05-02T16:23:29.995564Z",
     "iopub.status.busy": "2024-05-02T16:23:29.994719Z",
     "iopub.status.idle": "2024-05-02T16:30:39.197515Z",
     "shell.execute_reply": "2024-05-02T16:30:39.196156Z"
    },
    "papermill": {
     "duration": 429.297911,
     "end_time": "2024-05-02T16:30:39.199724",
     "exception": false,
     "start_time": "2024-05-02T16:23:29.901813",
     "status": "completed"
    },
    "tags": []
   },
   "outputs": [
    {
     "name": "stdout",
     "output_type": "stream",
     "text": [
      "[========================C-] Batch 3124/3125 > result.shape = torch.Size([625000, 368]) | 84.78it/s\r\n",
      "\n",
      "Batch 3124 > result.shape = torch.Size([625000, 368]) | \n",
      "4 Run Time Cost: 429.194s\n"
     ]
    }
   ],
   "source": [
    "timer.start()\n",
    "with torch.no_grad():\n",
    "    for i, smp in enumerate(subm_loader):\n",
    "        t0 = time.time()\n",
    "        smp =  [smps.to(device, non_blocking=True) for smps in smp]\n",
    "        scaler = out_df[i*subm_batch_size:(i+1)*subm_batch_size, :]\n",
    "        pred = net(smp)\n",
    "        scaler = postprocess(pred, scaler)\n",
    "        if i == 0:\n",
    "            result = scaler\n",
    "        else:\n",
    "            result = torch.cat((result, scaler), axis=0)\n",
    "        print(f'[{\"=\" * int(25 * i / data_len)}{\"C\" if i % 2 == 0 else \"c\"}{\"-\" * (25 - int(25 * i / data_len))}] Batch {i}/{data_len} > {result.shape = } | {1 / (time.time() - t0):.2f}it/s\\r', end='')\n",
    "    print('\\n')\n",
    "print(f'Batch {i} > {result.shape = } | ')\n",
    "timer.stop()"
   ]
  },
  {
   "cell_type": "code",
   "execution_count": 37,
   "id": "eaf980f6",
   "metadata": {
    "execution": {
     "iopub.execute_input": "2024-05-02T16:30:39.555222Z",
     "iopub.status.busy": "2024-05-02T16:30:39.554425Z",
     "iopub.status.idle": "2024-05-02T16:30:40.310545Z",
     "shell.execute_reply": "2024-05-02T16:30:40.309526Z"
    },
    "papermill": {
     "duration": 0.936591,
     "end_time": "2024-05-02T16:30:40.312926",
     "exception": false,
     "start_time": "2024-05-02T16:30:39.376335",
     "status": "completed"
    },
    "tags": []
   },
   "outputs": [
    {
     "data": {
      "text/plain": [
       "((625000, 368), dtype('float32'))"
      ]
     },
     "execution_count": 37,
     "metadata": {},
     "output_type": "execute_result"
    }
   ],
   "source": [
    "result = result.to('cpu').detach().numpy()\n",
    "result.shape, result.dtype"
   ]
  },
  {
   "cell_type": "code",
   "execution_count": 38,
   "id": "4c9b1f69",
   "metadata": {
    "execution": {
     "iopub.execute_input": "2024-05-02T16:30:40.675833Z",
     "iopub.status.busy": "2024-05-02T16:30:40.674980Z",
     "iopub.status.idle": "2024-05-02T16:30:44.190935Z",
     "shell.execute_reply": "2024-05-02T16:30:44.190065Z"
    },
    "papermill": {
     "duration": 3.700018,
     "end_time": "2024-05-02T16:30:44.193097",
     "exception": false,
     "start_time": "2024-05-02T16:30:40.493079",
     "status": "completed"
    },
    "tags": []
   },
   "outputs": [
    {
     "data": {
      "text/plain": [
       "(shape: (2, 1)\n",
       " ┌─────────────┐\n",
       " │ sample_id   │\n",
       " │ ---         │\n",
       " │ str         │\n",
       " ╞═════════════╡\n",
       " │ test_169651 │\n",
       " │ test_524862 │\n",
       " └─────────────┘,\n",
       " shape: (2, 368)\n",
       " ┌───────────┬───────────┬───────────┬───────────┬───┬───────────┬───────────┬───────────┬──────────┐\n",
       " │ ptend_t_0 ┆ ptend_t_1 ┆ ptend_t_2 ┆ ptend_t_3 ┆ … ┆ cam_out_S ┆ cam_out_S ┆ cam_out_S ┆ cam_out_ │\n",
       " │ ---       ┆ ---       ┆ ---       ┆ ---       ┆   ┆ OLS       ┆ OLL       ┆ OLSD      ┆ SOLLD    │\n",
       " │ f32       ┆ f32       ┆ f32       ┆ f32       ┆   ┆ ---       ┆ ---       ┆ ---       ┆ ---      │\n",
       " │           ┆           ┆           ┆           ┆   ┆ f32       ┆ f32       ┆ f32       ┆ f32      │\n",
       " ╞═══════════╪═══════════╪═══════════╪═══════════╪═══╪═══════════╪═══════════╪═══════════╪══════════╡\n",
       " │ 1361.1817 ┆ 1031.5831 ┆ 815.39099 ┆ 551.25671 ┆ … ┆ -0.049046 ┆ -0.024662 ┆ 0.043887  ┆ 0.009742 │\n",
       " │ 63        ┆ 3         ┆ 1         ┆ 4         ┆   ┆           ┆           ┆           ┆          │\n",
       " │ 992.47631 ┆ 768.08844 ┆ 598.87994 ┆ 389.14953 ┆ … ┆ -0.038211 ┆ -0.008397 ┆ 0.161143  ┆ 0.130138 │\n",
       " │ 8         ┆           ┆ 4         ┆ 6         ┆   ┆           ┆           ┆           ┆          │\n",
       " └───────────┴───────────┴───────────┴───────────┴───┴───────────┴───────────┴───────────┴──────────┘)"
      ]
     },
     "execution_count": 38,
     "metadata": {},
     "output_type": "execute_result"
    }
   ],
   "source": [
    "sample_ids = pl.from_numpy(subm_multip[:, 0].reshape(-1 ,1))\n",
    "sample_ids.columns = sample_cols[0:1]\n",
    "sample_prs = pl.from_numpy(result)\n",
    "sample_prs.columns = sample_cols[1:]\n",
    "sample_ids.head(2), sample_prs.head(2)"
   ]
  },
  {
   "cell_type": "code",
   "execution_count": 39,
   "id": "6899a074",
   "metadata": {
    "execution": {
     "iopub.execute_input": "2024-05-02T16:30:44.552496Z",
     "iopub.status.busy": "2024-05-02T16:30:44.551821Z",
     "iopub.status.idle": "2024-05-02T16:30:44.556204Z",
     "shell.execute_reply": "2024-05-02T16:30:44.555318Z"
    },
    "papermill": {
     "duration": 0.187531,
     "end_time": "2024-05-02T16:30:44.558395",
     "exception": false,
     "start_time": "2024-05-02T16:30:44.370864",
     "status": "completed"
    },
    "tags": []
   },
   "outputs": [],
   "source": [
    "# 清理无用变量节省空间\n"
   ]
  },
  {
   "cell_type": "code",
   "execution_count": 40,
   "id": "bd8187e0",
   "metadata": {
    "execution": {
     "iopub.execute_input": "2024-05-02T16:30:44.914184Z",
     "iopub.status.busy": "2024-05-02T16:30:44.913505Z",
     "iopub.status.idle": "2024-05-02T16:30:44.930930Z",
     "shell.execute_reply": "2024-05-02T16:30:44.930089Z"
    },
    "papermill": {
     "duration": 0.197027,
     "end_time": "2024-05-02T16:30:44.932918",
     "exception": false,
     "start_time": "2024-05-02T16:30:44.735891",
     "status": "completed"
    },
    "tags": []
   },
   "outputs": [
    {
     "data": {
      "text/html": [
       "<div><style>\n",
       ".dataframe > thead > tr,\n",
       ".dataframe > tbody > tr {\n",
       "  text-align: right;\n",
       "  white-space: pre-wrap;\n",
       "}\n",
       "</style>\n",
       "<small>shape: (2, 369)</small><table border=\"1\" class=\"dataframe\"><thead><tr><th>sample_id</th><th>ptend_t_0</th><th>ptend_t_1</th><th>ptend_t_2</th><th>ptend_t_3</th><th>ptend_t_4</th><th>ptend_t_5</th><th>ptend_t_6</th><th>ptend_t_7</th><th>ptend_t_8</th><th>ptend_t_9</th><th>ptend_t_10</th><th>ptend_t_11</th><th>ptend_t_12</th><th>ptend_t_13</th><th>ptend_t_14</th><th>ptend_t_15</th><th>ptend_t_16</th><th>ptend_t_17</th><th>ptend_t_18</th><th>ptend_t_19</th><th>ptend_t_20</th><th>ptend_t_21</th><th>ptend_t_22</th><th>ptend_t_23</th><th>ptend_t_24</th><th>ptend_t_25</th><th>ptend_t_26</th><th>ptend_t_27</th><th>ptend_t_28</th><th>ptend_t_29</th><th>ptend_t_30</th><th>ptend_t_31</th><th>ptend_t_32</th><th>ptend_t_33</th><th>ptend_t_34</th><th>ptend_t_35</th><th>&hellip;</th><th>ptend_v_31</th><th>ptend_v_32</th><th>ptend_v_33</th><th>ptend_v_34</th><th>ptend_v_35</th><th>ptend_v_36</th><th>ptend_v_37</th><th>ptend_v_38</th><th>ptend_v_39</th><th>ptend_v_40</th><th>ptend_v_41</th><th>ptend_v_42</th><th>ptend_v_43</th><th>ptend_v_44</th><th>ptend_v_45</th><th>ptend_v_46</th><th>ptend_v_47</th><th>ptend_v_48</th><th>ptend_v_49</th><th>ptend_v_50</th><th>ptend_v_51</th><th>ptend_v_52</th><th>ptend_v_53</th><th>ptend_v_54</th><th>ptend_v_55</th><th>ptend_v_56</th><th>ptend_v_57</th><th>ptend_v_58</th><th>ptend_v_59</th><th>cam_out_NETSW</th><th>cam_out_FLWDS</th><th>cam_out_PRECSC</th><th>cam_out_PRECC</th><th>cam_out_SOLS</th><th>cam_out_SOLL</th><th>cam_out_SOLSD</th><th>cam_out_SOLLD</th></tr><tr><td>str</td><td>f32</td><td>f32</td><td>f32</td><td>f32</td><td>f32</td><td>f32</td><td>f32</td><td>f32</td><td>f32</td><td>f32</td><td>f32</td><td>f32</td><td>f32</td><td>f32</td><td>f32</td><td>f32</td><td>f32</td><td>f32</td><td>f32</td><td>f32</td><td>f32</td><td>f32</td><td>f32</td><td>f32</td><td>f32</td><td>f32</td><td>f32</td><td>f32</td><td>f32</td><td>f32</td><td>f32</td><td>f32</td><td>f32</td><td>f32</td><td>f32</td><td>f32</td><td>&hellip;</td><td>f32</td><td>f32</td><td>f32</td><td>f32</td><td>f32</td><td>f32</td><td>f32</td><td>f32</td><td>f32</td><td>f32</td><td>f32</td><td>f32</td><td>f32</td><td>f32</td><td>f32</td><td>f32</td><td>f32</td><td>f32</td><td>f32</td><td>f32</td><td>f32</td><td>f32</td><td>f32</td><td>f32</td><td>f32</td><td>f32</td><td>f32</td><td>f32</td><td>f32</td><td>f32</td><td>f32</td><td>f32</td><td>f32</td><td>f32</td><td>f32</td><td>f32</td><td>f32</td></tr></thead><tbody><tr><td>&quot;test_169651&quot;</td><td>1361.181763</td><td>1031.58313</td><td>815.390991</td><td>551.256714</td><td>606.433228</td><td>416.533691</td><td>363.513458</td><td>387.221008</td><td>574.840149</td><td>631.687256</td><td>865.350708</td><td>1081.605713</td><td>1204.61792</td><td>1844.291382</td><td>2339.130615</td><td>2940.805664</td><td>3403.065918</td><td>2940.798096</td><td>2125.669434</td><td>1710.831421</td><td>1702.353882</td><td>1816.0802</td><td>1752.535522</td><td>1643.363403</td><td>2488.560059</td><td>3743.953613</td><td>4702.57373</td><td>5348.120605</td><td>4163.21875</td><td>1864.465698</td><td>68.366547</td><td>-1454.219604</td><td>-1892.256104</td><td>-1364.2229</td><td>-915.039124</td><td>-574.023743</td><td>&hellip;</td><td>42528.132812</td><td>48815.191406</td><td>47533.425781</td><td>44946.636719</td><td>40381.808594</td><td>35695.226562</td><td>31489.652344</td><td>27212.810547</td><td>23835.496094</td><td>20951.34375</td><td>18794.9375</td><td>17057.882812</td><td>15138.959961</td><td>13525.301758</td><td>11912.019531</td><td>10395.775391</td><td>9202.200195</td><td>8189.766113</td><td>7258.331055</td><td>6281.56543</td><td>5324.342285</td><td>4395.498047</td><td>3707.87915</td><td>3256.178467</td><td>3007.785645</td><td>2733.312256</td><td>3050.424316</td><td>3715.792725</td><td>2730.023193</td><td>-0.028512</td><td>5.34409</td><td>-1.5580627e7</td><td>-5.335264e6</td><td>-0.049046</td><td>-0.024662</td><td>0.043887</td><td>0.009742</td></tr><tr><td>&quot;test_524862&quot;</td><td>992.476318</td><td>768.08844</td><td>598.879944</td><td>389.149536</td><td>483.00415</td><td>305.646637</td><td>235.639328</td><td>206.392212</td><td>267.390198</td><td>207.205444</td><td>275.700104</td><td>270.188141</td><td>45.623344</td><td>222.163147</td><td>36.81683</td><td>-110.918556</td><td>-121.236794</td><td>-233.851059</td><td>-243.615692</td><td>-249.005524</td><td>-158.218994</td><td>-5.656067</td><td>60.335381</td><td>116.43457</td><td>1150.910034</td><td>2615.116943</td><td>3756.357422</td><td>4553.243164</td><td>3523.878174</td><td>1378.475098</td><td>-300.113892</td><td>-1733.355225</td><td>-2143.830566</td><td>-1638.148315</td><td>-1213.258789</td><td>-900.460144</td><td>&hellip;</td><td>43756.726562</td><td>49983.453125</td><td>48119.214844</td><td>44867.898438</td><td>39620.03125</td><td>34636.542969</td><td>30508.636719</td><td>26314.205078</td><td>23003.851562</td><td>20174.314453</td><td>18071.228516</td><td>16385.703125</td><td>14517.483398</td><td>12948.100586</td><td>11378.44043</td><td>9905.40332</td><td>8744.107422</td><td>7754.393066</td><td>6846.49707</td><td>5895.862793</td><td>4971.819824</td><td>4091.904297</td><td>3437.166016</td><td>3001.436035</td><td>2753.846191</td><td>2488.283936</td><td>2818.483887</td><td>3486.448242</td><td>2592.786621</td><td>0.005389</td><td>5.132265</td><td>-1.5418409e7</td><td>-3.561317e6</td><td>-0.038211</td><td>-0.008397</td><td>0.161143</td><td>0.130138</td></tr></tbody></table></div>"
      ],
      "text/plain": [
       "shape: (2, 369)\n",
       "┌───────────┬───────────┬───────────┬───────────┬───┬───────────┬───────────┬───────────┬──────────┐\n",
       "│ sample_id ┆ ptend_t_0 ┆ ptend_t_1 ┆ ptend_t_2 ┆ … ┆ cam_out_S ┆ cam_out_S ┆ cam_out_S ┆ cam_out_ │\n",
       "│ ---       ┆ ---       ┆ ---       ┆ ---       ┆   ┆ OLS       ┆ OLL       ┆ OLSD      ┆ SOLLD    │\n",
       "│ str       ┆ f32       ┆ f32       ┆ f32       ┆   ┆ ---       ┆ ---       ┆ ---       ┆ ---      │\n",
       "│           ┆           ┆           ┆           ┆   ┆ f32       ┆ f32       ┆ f32       ┆ f32      │\n",
       "╞═══════════╪═══════════╪═══════════╪═══════════╪═══╪═══════════╪═══════════╪═══════════╪══════════╡\n",
       "│ test_1696 ┆ 1361.1817 ┆ 1031.5831 ┆ 815.39099 ┆ … ┆ -0.049046 ┆ -0.024662 ┆ 0.043887  ┆ 0.009742 │\n",
       "│ 51        ┆ 63        ┆ 3         ┆ 1         ┆   ┆           ┆           ┆           ┆          │\n",
       "│ test_5248 ┆ 992.47631 ┆ 768.08844 ┆ 598.87994 ┆ … ┆ -0.038211 ┆ -0.008397 ┆ 0.161143  ┆ 0.130138 │\n",
       "│ 62        ┆ 8         ┆           ┆ 4         ┆   ┆           ┆           ┆           ┆          │\n",
       "└───────────┴───────────┴───────────┴───────────┴───┴───────────┴───────────┴───────────┴──────────┘"
      ]
     },
     "execution_count": 40,
     "metadata": {},
     "output_type": "execute_result"
    }
   ],
   "source": [
    "# save_data = pl.from_numpy(data)\n",
    "save_save = pl.concat([sample_ids, sample_prs], how = \"horizontal\")\n",
    "save_save.head(2)"
   ]
  },
  {
   "cell_type": "code",
   "execution_count": 41,
   "id": "b4646a88",
   "metadata": {
    "execution": {
     "iopub.execute_input": "2024-05-02T16:30:45.287826Z",
     "iopub.status.busy": "2024-05-02T16:30:45.287467Z",
     "iopub.status.idle": "2024-05-02T16:30:51.988921Z",
     "shell.execute_reply": "2024-05-02T16:30:51.987947Z"
    },
    "papermill": {
     "duration": 6.882129,
     "end_time": "2024-05-02T16:30:51.991309",
     "exception": false,
     "start_time": "2024-05-02T16:30:45.109180",
     "status": "completed"
    },
    "tags": []
   },
   "outputs": [],
   "source": [
    "save_save.write_csv(out_csv)"
   ]
  },
  {
   "cell_type": "code",
   "execution_count": null,
   "id": "b44f2895",
   "metadata": {
    "papermill": {
     "duration": 0.176761,
     "end_time": "2024-05-02T16:30:52.345203",
     "exception": false,
     "start_time": "2024-05-02T16:30:52.168442",
     "status": "completed"
    },
    "tags": []
   },
   "outputs": [],
   "source": []
  }
 ],
 "metadata": {
  "kaggle": {
   "accelerator": "gpu",
   "dataSources": [
    {
     "databundleVersionId": 8015876,
     "sourceId": 56537,
     "sourceType": "competition"
    },
    {
     "isSourceIdPinned": true,
     "modelInstanceId": 35762,
     "sourceId": 42557,
     "sourceType": "modelInstanceVersion"
    }
   ],
   "dockerImageVersionId": 30698,
   "isGpuEnabled": true,
   "isInternetEnabled": true,
   "language": "python",
   "sourceType": "notebook"
  },
  "kernelspec": {
   "display_name": "Python 3",
   "language": "python",
   "name": "python3"
  },
  "language_info": {
   "codemirror_mode": {
    "name": "ipython",
    "version": 3
   },
   "file_extension": ".py",
   "mimetype": "text/x-python",
   "name": "python",
   "nbconvert_exporter": "python",
   "pygments_lexer": "ipython3",
   "version": "3.10.13"
  },
  "papermill": {
   "default_parameters": {},
   "duration": 1052.71241,
   "end_time": "2024-05-02T16:30:55.994676",
   "environment_variables": {},
   "exception": null,
   "input_path": "__notebook__.ipynb",
   "output_path": "__notebook__.ipynb",
   "parameters": {},
   "start_time": "2024-05-02T16:13:23.282266",
   "version": "2.5.0"
  }
 },
 "nbformat": 4,
 "nbformat_minor": 5
}
