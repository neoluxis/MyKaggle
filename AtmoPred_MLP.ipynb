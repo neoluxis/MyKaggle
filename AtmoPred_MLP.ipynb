{
 "cells": [
  {
   "cell_type": "code",
   "execution_count": 1,
   "id": "4bb823e7",
   "metadata": {
    "_cell_guid": "b1076dfc-b9ad-4769-8c92-a6c4dae69d19",
    "_uuid": "8f2839f25d086af736a60e9eeb907d3b93b6e0e5",
    "execution": {
     "iopub.execute_input": "2024-05-05T06:04:47.556966Z",
     "iopub.status.busy": "2024-05-05T06:04:47.556621Z",
     "iopub.status.idle": "2024-05-05T06:04:48.504172Z",
     "shell.execute_reply": "2024-05-05T06:04:48.503259Z"
    },
    "papermill": {
     "duration": 0.963206,
     "end_time": "2024-05-05T06:04:48.506939",
     "exception": false,
     "start_time": "2024-05-05T06:04:47.543733",
     "status": "completed"
    },
    "tags": []
   },
   "outputs": [
    {
     "name": "stdout",
     "output_type": "stream",
     "text": [
      "/kaggle/input/leap-atmospheric-physics-ai-climsim/sample_submission.csv\n",
      "/kaggle/input/leap-atmospheric-physics-ai-climsim/train.csv\n",
      "/kaggle/input/leap-atmospheric-physics-ai-climsim/test.csv\n",
      "/kaggle/input/atmospred_mlp/pytorch/trained/1/best.pth\n"
     ]
    }
   ],
   "source": [
    "# This Python 3 environment comes with many helpful analytics libraries installed\n",
    "# It is defined by the kaggle/python Docker image: https://github.com/kaggle/docker-python\n",
    "# For example, here's several helpful packages to load\n",
    "\n",
    "import numpy as np # linear algebra\n",
    "import pandas as pd # data processing, CSV file I/O (e.g. pd.read_csv)\n",
    "import polars as pl\n",
    "import gc\n",
    "\n",
    "\n",
    "# Input data files are available in the read-only \"../input/\" directory\n",
    "# For example, running this (by clicking run or pressing Shift+Enter) will list all files under the input directory\n",
    "\n",
    "import os\n",
    "for dirname, _, filenames in os.walk('/kaggle/input'):\n",
    "    for filename in filenames:\n",
    "        print(os.path.join(dirname, filename))\n",
    "\n",
    "# You can write up to 20GB to the current directory (/kaggle/working/) that gets preserved as output when you create a version using \"Save & Run All\" \n",
    "# You can also write temporary files to /kaggle/temp/, but they won't be saved outside of the current session"
   ]
  },
  {
   "cell_type": "code",
   "execution_count": 2,
   "id": "1ae83e25",
   "metadata": {
    "execution": {
     "iopub.execute_input": "2024-05-05T06:04:48.530970Z",
     "iopub.status.busy": "2024-05-05T06:04:48.530547Z",
     "iopub.status.idle": "2024-05-05T06:04:54.952458Z",
     "shell.execute_reply": "2024-05-05T06:04:54.951485Z"
    },
    "papermill": {
     "duration": 6.4365,
     "end_time": "2024-05-05T06:04:54.954991",
     "exception": false,
     "start_time": "2024-05-05T06:04:48.518491",
     "status": "completed"
    },
    "tags": []
   },
   "outputs": [],
   "source": [
    "import torch\n",
    "from torch.utils.data import Dataset\n",
    "from torch.utils.data import DataLoader\n",
    "import torchvision.transforms as transforms\n",
    "import torch.nn as nn\n",
    "import torch.nn.functional as F\n",
    "import torch.optim as optim\n",
    "\n",
    "from tqdm import tqdm\n",
    "\n",
    "import matplotlib.pyplot as plt\n",
    "%matplotlib inline"
   ]
  },
  {
   "cell_type": "code",
   "execution_count": 3,
   "id": "867d81a2",
   "metadata": {
    "execution": {
     "iopub.execute_input": "2024-05-05T06:04:54.979100Z",
     "iopub.status.busy": "2024-05-05T06:04:54.978454Z",
     "iopub.status.idle": "2024-05-05T06:04:55.033600Z",
     "shell.execute_reply": "2024-05-05T06:04:55.032748Z"
    },
    "papermill": {
     "duration": 0.069014,
     "end_time": "2024-05-05T06:04:55.035439",
     "exception": false,
     "start_time": "2024-05-05T06:04:54.966425",
     "status": "completed"
    },
    "tags": []
   },
   "outputs": [],
   "source": [
    "# 读取数据\n",
    "train_csv = '/kaggle/input/leap-atmospheric-physics-ai-climsim/train.csv'\n",
    "test_csv = '/kaggle/input/leap-atmospheric-physics-ai-climsim/test.csv'\n",
    "subm_spl = '/kaggle/input/leap-atmospheric-physics-ai-climsim/sample_submission.csv'\n",
    "out_csv = 'submission.csv'\n",
    "\n",
    "read_chunk_size = 100000 # 一次性读取100000行数据\n",
    "\n",
    "# 训练参数\n",
    "num_epochs = 0\n",
    "max_patience = 3\n",
    "batch_size = 360\n",
    "num_workers = 256\n",
    "lr = 0.0005\n",
    "\n",
    "device = 'cuda' if torch.cuda.is_available() else 'cpu'"
   ]
  },
  {
   "cell_type": "code",
   "execution_count": 4,
   "id": "884488f9",
   "metadata": {
    "execution": {
     "iopub.execute_input": "2024-05-05T06:04:55.060427Z",
     "iopub.status.busy": "2024-05-05T06:04:55.059743Z",
     "iopub.status.idle": "2024-05-05T06:04:55.069207Z",
     "shell.execute_reply": "2024-05-05T06:04:55.068383Z"
    },
    "papermill": {
     "duration": 0.02442,
     "end_time": "2024-05-05T06:04:55.071039",
     "exception": false,
     "start_time": "2024-05-05T06:04:55.046619",
     "status": "completed"
    },
    "tags": []
   },
   "outputs": [],
   "source": [
    "def graph(acc, loss, title):\n",
    "    \"\"\" 绘制准确率和损失曲线\n",
    "\n",
    "    Args:\n",
    "        acc (list): [train, val]/[test]\n",
    "        loss (list): [train, val]/[test]\n",
    "        title (str): Title\n",
    "    \"\"\"\n",
    "    assert len(acc) == len(loss), 'Length of acc and loss must be the same'\n",
    "    global save_run_dir\n",
    "    if len(acc) == 2:\n",
    "        plt.subplot(1, 2, 1)\n",
    "        plt.plot(acc[0], label='Training Accuracy')\n",
    "        plt.plot(acc[1], label='Validation Accuracy')\n",
    "        plt.title(title)\n",
    "        plt.ylabel('Accuracy')\n",
    "        plt.xlabel('Epoch')\n",
    "        plt.legend()\n",
    "        plt.subplot(1, 2, 2)\n",
    "        plt.plot(loss[0], label='Training Loss')\n",
    "        plt.plot(loss[1], label='Validation Loss')\n",
    "        plt.ylabel('Loss')\n",
    "        plt.xlabel('Epoch')\n",
    "        plt.legend()\n",
    "    elif len(acc) == 1:\n",
    "        plt.subplot(2, 1, 1)\n",
    "        plt.plot(acc[0], label='Test Accuracy')\n",
    "        plt.title(title)\n",
    "        plt.ylabel('Accuracy')\n",
    "        plt.xlabel('Epoch')\n",
    "        plt.legend()\n",
    "        plt.subplot(2, 1, 2)\n",
    "        plt.plot(loss[0], label='Test Loss')\n",
    "        plt.ylabel('Loss')\n",
    "        plt.xlabel('Epoch')\n",
    "        plt.legend()\n",
    "    plt.show()"
   ]
  },
  {
   "cell_type": "code",
   "execution_count": 5,
   "id": "59a46bdd",
   "metadata": {
    "execution": {
     "iopub.execute_input": "2024-05-05T06:04:55.094456Z",
     "iopub.status.busy": "2024-05-05T06:04:55.094168Z",
     "iopub.status.idle": "2024-05-05T06:04:55.103434Z",
     "shell.execute_reply": "2024-05-05T06:04:55.102590Z"
    },
    "papermill": {
     "duration": 0.023271,
     "end_time": "2024-05-05T06:04:55.105489",
     "exception": false,
     "start_time": "2024-05-05T06:04:55.082218",
     "status": "completed"
    },
    "tags": []
   },
   "outputs": [],
   "source": [
    "import time\n",
    "\n",
    "class Timer:\n",
    "    def __init__(self):\n",
    "        self.t0 = 0\n",
    "        self.t1 = 0\n",
    "        self.times = []\n",
    "        self.infos = []\n",
    "        \n",
    "    def start(self, info = 'Run'):\n",
    "        self.t1 = self.t0\n",
    "        self.infos.append(f'{len(self.infos)} {info}')\n",
    "        self.t0 = time.time()\n",
    "        \n",
    "    def stop(self):\n",
    "        self.t1 = time.time()\n",
    "        t = self.t1 - self.t0\n",
    "        self.times.append(t)\n",
    "        print(f'{self.infos[-1]} Time Cost: {t:.3f}s')\n",
    "        \n",
    "    def get_stats(self):\n",
    "        for info, tm in zip(self.infos, self.times):\n",
    "            print(f'{info}\\t{tm:.3f}s')\n",
    "        print(f'Total: {sum(self.times):.3f} ')\n",
    "    \n",
    "    def clear(self, idx=0):\n",
    "        if idx == 0:\n",
    "            self.infos.clear()\n",
    "            self.times.clear()\n",
    "            return\n",
    "        info = self.infos.pop(idx - (0 if idx < 0 else 1))\n",
    "        tm = self.times.pop(idx - (0 if idx < 0 else 1))\n",
    "        return info, tm\n",
    "        \n",
    "timer = Timer()"
   ]
  },
  {
   "cell_type": "code",
   "execution_count": 6,
   "id": "26516f9c",
   "metadata": {
    "execution": {
     "iopub.execute_input": "2024-05-05T06:04:55.128453Z",
     "iopub.status.busy": "2024-05-05T06:04:55.128181Z",
     "iopub.status.idle": "2024-05-05T06:05:35.758433Z",
     "shell.execute_reply": "2024-05-05T06:05:35.757529Z"
    },
    "papermill": {
     "duration": 40.655567,
     "end_time": "2024-05-05T06:05:35.771954",
     "exception": false,
     "start_time": "2024-05-05T06:04:55.116387",
     "status": "completed"
    },
    "tags": []
   },
   "outputs": [
    {
     "name": "stdout",
     "output_type": "stream",
     "text": [
      "0 Read dataset chunk size 100000 Time Cost: 40.623s\n"
     ]
    },
    {
     "data": {
      "text/plain": [
       "(100000, 925)"
      ]
     },
     "execution_count": 6,
     "metadata": {},
     "output_type": "execute_result"
    }
   ],
   "source": [
    "# 读取数据\n",
    "timer.start(f'Read dataset chunk size {read_chunk_size}')\n",
    "train_chunks = pd.read_csv(train_csv, chunksize = read_chunk_size)\n",
    "train_data = next(train_chunks)\n",
    "timer.stop()\n",
    "# train_data = next(train_chunks)\n",
    "# train_data = next(train_chunks)\n",
    "cols = train_data.columns\n",
    "\n",
    "train_data.shape"
   ]
  },
  {
   "cell_type": "markdown",
   "id": "e23dedd2",
   "metadata": {
    "papermill": {
     "duration": 0.011294,
     "end_time": "2024-05-05T06:05:35.794741",
     "exception": false,
     "start_time": "2024-05-05T06:05:35.783447",
     "status": "completed"
    },
    "tags": []
   },
   "source": [
    "# 划分数据集\n",
    "\n",
    "1. 划分数据的输入输出\n",
    "2. 划分 训练集，验证集(，测试集)"
   ]
  },
  {
   "cell_type": "code",
   "execution_count": 7,
   "id": "de51583c",
   "metadata": {
    "execution": {
     "iopub.execute_input": "2024-05-05T06:05:35.819001Z",
     "iopub.status.busy": "2024-05-05T06:05:35.818694Z",
     "iopub.status.idle": "2024-05-05T06:05:35.827647Z",
     "shell.execute_reply": "2024-05-05T06:05:35.826810Z"
    },
    "papermill": {
     "duration": 0.022958,
     "end_time": "2024-05-05T06:05:35.829506",
     "exception": false,
     "start_time": "2024-05-05T06:05:35.806548",
     "status": "completed"
    },
    "tags": []
   },
   "outputs": [],
   "source": [
    "# 划分数据集\n",
    "\n",
    "def split_io(dframe, in_cols = cols[1:557], out_cols = cols[557:]):\n",
    "    # 划分输入输出\n",
    "    in_df = dframe[in_cols]\n",
    "    out_df = dframe[out_cols]\n",
    "    return in_df, out_df\n",
    "\n",
    "def split_tvt(dframe, ratio=[0.8], shuffle=False):\n",
    "    # 设定好 train (和 val) 集的比例，剩余的均归到test/val\n",
    "    assert sum(ratio) <= 1, \"Ratio sum for train and val cannot be bigger than 1\"\n",
    "    assert len(ratio) > 0, \"Ratio cannot be empty\"\n",
    "     # 根据是否需要测试集来调整比例\n",
    "    train_rat = ratio[0]\n",
    "    val_rat = (1 - train_rat) if len(ratio) == 1 else ratio[1]\n",
    "    test_rat = (1 - train_rat - val_rat) if len(ratio) == 2 else 0\n",
    "    \n",
    "    data_size = dframe.shape[0]\n",
    "    train_size = int(data_size * train_rat)\n",
    "    val_size = (data_size - train_size) if len(ratio) == 1 else int(data_size * val_rat)\n",
    "    \n",
    "    if shuffle:\n",
    "        dframe = dframe.sample(frac=1).reset_index(drop=True)\n",
    "        \n",
    "    train = dframe.iloc[:train_size]\n",
    "    val = dframe.iloc[train_size:train_size + val_size]\n",
    "    \n",
    "    if test_rat != 0:\n",
    "        test = dframe.iloc[train_size + val_size:]\n",
    "        return train, val, test\n",
    "    else:\n",
    "        return train, val"
   ]
  },
  {
   "cell_type": "code",
   "execution_count": 8,
   "id": "575f95a5",
   "metadata": {
    "execution": {
     "iopub.execute_input": "2024-05-05T06:05:35.853078Z",
     "iopub.status.busy": "2024-05-05T06:05:35.852762Z",
     "iopub.status.idle": "2024-05-05T06:05:36.849478Z",
     "shell.execute_reply": "2024-05-05T06:05:36.848276Z"
    },
    "papermill": {
     "duration": 1.011143,
     "end_time": "2024-05-05T06:05:36.851597",
     "exception": false,
     "start_time": "2024-05-05T06:05:35.840454",
     "status": "completed"
    },
    "tags": []
   },
   "outputs": [
    {
     "name": "stdout",
     "output_type": "stream",
     "text": [
      "val_set.shape = (20000, 925)\n",
      "test_set.shape = (10000, 925)\n",
      "train_in.shape = (70000, 556)\n",
      "train_out.shape = (70000, 368)\n",
      "val_in.shape = (20000, 556)\n",
      "val_out.shape = (20000, 368)\n"
     ]
    }
   ],
   "source": [
    "# 划分数据集\n",
    "train_set, val_set, test_set = split_tvt(train_data, [0.7, 0.2], True)\n",
    "train_in, train_out = split_io(train_set)\n",
    "val_in, val_out = split_io(val_set)\n",
    "test_in, test_out = split_io(test_set)\n",
    "\n",
    "print(f'{val_set.shape = }')\n",
    "print(f'{test_set.shape = }')\n",
    "print(f'{train_in.shape = }')\n",
    "print(f'{train_out.shape = }')\n",
    "print(f'{val_in.shape = }')\n",
    "print(f'{val_out.shape = }')\n",
    "# print(f'{val_out.iloc[0] = }')\n",
    "\n",
    "del(train_data)\n",
    "del(train_set)\n",
    "del(val_set)\n",
    "del(test_set)"
   ]
  },
  {
   "cell_type": "code",
   "execution_count": 9,
   "id": "d38bf42e",
   "metadata": {
    "execution": {
     "iopub.execute_input": "2024-05-05T06:05:36.875987Z",
     "iopub.status.busy": "2024-05-05T06:05:36.875672Z",
     "iopub.status.idle": "2024-05-05T06:05:36.883095Z",
     "shell.execute_reply": "2024-05-05T06:05:36.882271Z"
    },
    "papermill": {
     "duration": 0.021707,
     "end_time": "2024-05-05T06:05:36.884934",
     "exception": false,
     "start_time": "2024-05-05T06:05:36.863227",
     "status": "completed"
    },
    "tags": []
   },
   "outputs": [],
   "source": [
    "class MLP_Dataset(Dataset):\n",
    "    def __init__(self, dsin, dsout=None, test=False, transform = transforms.Compose([\n",
    "        transforms.ToTensor(),\n",
    "    ])):\n",
    "        self.dsin = dsin\n",
    "        self.test = test\n",
    "        self.dsout = dsout\n",
    "        self.transform =transform\n",
    "    \n",
    "    def __len__(self):\n",
    "        return self.dsin.shape[0]\n",
    "    \n",
    "    def __getitem__(self, idx):\n",
    "        data =  self.dsin.iloc[idx].to_numpy()\n",
    "        data = torch.tensor(data).to(torch.float32).reshape((1, 556))\n",
    "        if not self.test:\n",
    "            targ = self.dsout.iloc[idx].to_numpy().reshape((1, 368))\n",
    "            targ = torch.tensor(targ).to(torch.float32)\n",
    "            return data, targ\n",
    "        return data"
   ]
  },
  {
   "cell_type": "code",
   "execution_count": 10,
   "id": "df79a60c",
   "metadata": {
    "execution": {
     "iopub.execute_input": "2024-05-05T06:05:36.908495Z",
     "iopub.status.busy": "2024-05-05T06:05:36.908248Z",
     "iopub.status.idle": "2024-05-05T06:05:36.946819Z",
     "shell.execute_reply": "2024-05-05T06:05:36.945691Z"
    },
    "papermill": {
     "duration": 0.053205,
     "end_time": "2024-05-05T06:05:36.949188",
     "exception": false,
     "start_time": "2024-05-05T06:05:36.895983",
     "status": "completed"
    },
    "tags": []
   },
   "outputs": [
    {
     "name": "stdout",
     "output_type": "stream",
     "text": [
      "train_dataset[0][0].shape = torch.Size([1, 556]) train_dataset[0][1].shape = torch.Size([1, 368]) len(train_dataset) = 70000\n",
      "len(train_loader) = 195\n",
      "len(val_loader) = 56\n"
     ]
    },
    {
     "name": "stderr",
     "output_type": "stream",
     "text": [
      "/opt/conda/lib/python3.10/site-packages/torch/utils/data/dataloader.py:557: UserWarning: This DataLoader will create 256 worker processes in total. Our suggested max number of worker in current system is 4, which is smaller than what this DataLoader is going to create. Please be aware that excessive worker creation might get DataLoader running slow or even freeze, lower the worker number to avoid potential slowness/freeze if necessary.\n",
      "  warnings.warn(_create_warning_msg(\n"
     ]
    }
   ],
   "source": [
    "train_dataset = MLP_Dataset(train_in, train_out)\n",
    "print(f'{train_dataset[0][0].shape = } {train_dataset[0][1].shape = } {len(train_dataset) = }')\n",
    "train_loader =  DataLoader(train_dataset, batch_size = batch_size, shuffle=True, num_workers=num_workers, pin_memory=True)\n",
    "print(f'{len(train_loader) = }')\n",
    "\n",
    "val_dataset = MLP_Dataset(val_in, val_out)\n",
    "val_loader = DataLoader(val_dataset, batch_size = batch_size, shuffle=False, num_workers=num_workers, pin_memory=True)\n",
    "print(f'{len(val_loader) = }')"
   ]
  },
  {
   "cell_type": "code",
   "execution_count": 11,
   "id": "6a4947ba",
   "metadata": {
    "execution": {
     "iopub.execute_input": "2024-05-05T06:05:36.973670Z",
     "iopub.status.busy": "2024-05-05T06:05:36.973039Z",
     "iopub.status.idle": "2024-05-05T06:05:36.979964Z",
     "shell.execute_reply": "2024-05-05T06:05:36.979153Z"
    },
    "papermill": {
     "duration": 0.021046,
     "end_time": "2024-05-05T06:05:36.981761",
     "exception": false,
     "start_time": "2024-05-05T06:05:36.960715",
     "status": "completed"
    },
    "tags": []
   },
   "outputs": [],
   "source": [
    "def get_chunk_loader(chunk, test = False):\n",
    "    tmr = Timer()\n",
    "    tmr.start('Load datasets...')\n",
    "    train_set, val_set = split_tvt(chunk)\n",
    "    train_in, train_out = split_io(train_set)\n",
    "    val_in, val_out = split_io(val_set)\n",
    "    print(f'{train_in.shape = }')\n",
    "    print(f'{train_out.shape = }')\n",
    "    print(f'{val_in.shape = }')\n",
    "    print(f'{val_out.shape = }')\n",
    "    train_dataset = MLP_Dataset(train_in, train_out)\n",
    "    train_loader = DataLoader(train_dataset, batch_size = batch_size, shuffle=True, num_workers=num_workers, pin_memory=True)\n",
    "    print(f'{len(train_loader) = }')\n",
    "\n",
    "    val_dataset = MLP_Dataset(val_in, val_out)\n",
    "    val_loader = DataLoader(val_dataset, batch_size = batch_size, shuffle=False, num_workers=num_workers, pin_memory=True)\n",
    "    print(f'{len(val_loader) = }')\n",
    "    tmr.stop()\n",
    "    return train_loader, val_loader"
   ]
  },
  {
   "cell_type": "markdown",
   "id": "ee6fce3c",
   "metadata": {
    "papermill": {
     "duration": 0.012381,
     "end_time": "2024-05-05T06:05:37.005321",
     "exception": false,
     "start_time": "2024-05-05T06:05:36.992940",
     "status": "completed"
    },
    "tags": []
   },
   "source": [
    "# Define MLP"
   ]
  },
  {
   "cell_type": "code",
   "execution_count": 12,
   "id": "2465fcb6",
   "metadata": {
    "execution": {
     "iopub.execute_input": "2024-05-05T06:05:37.029230Z",
     "iopub.status.busy": "2024-05-05T06:05:37.028964Z",
     "iopub.status.idle": "2024-05-05T06:05:37.036710Z",
     "shell.execute_reply": "2024-05-05T06:05:37.035740Z"
    },
    "papermill": {
     "duration": 0.021792,
     "end_time": "2024-05-05T06:05:37.038561",
     "exception": false,
     "start_time": "2024-05-05T06:05:37.016769",
     "status": "completed"
    },
    "tags": []
   },
   "outputs": [],
   "source": [
    "def print_model(model, X):\n",
    "    \"\"\"打印出模型的每一层的输出形状\n",
    "\n",
    "    Args:\n",
    "        model (extend from nn.Module): 定义的模型\n",
    "        X (tensor): 输入张量\n",
    "    \"\"\"\n",
    "    for layer in model.children():\n",
    "        X = layer(X)\n",
    "        print(\"Layer: \", layer.__class__.__name__, \"Output shape: \", X.shape)\n",
    "\n",
    "class MLP(nn.Module):\n",
    "    def __init__(self, layers=5, hidden=144):\n",
    "        super(MLP, self).__init__()\n",
    "        self.hidden = hidden\n",
    "        self.linear = nn.Sequential(\n",
    "            nn.Linear(556, hidden),\n",
    "            nn.ReLU(),\n",
    "            nn.Dropout(),\n",
    "            *[nn.LazyLinear(hidden),\n",
    "            nn.LazyBatchNorm1d(),\n",
    "            nn.ReLU(),\n",
    "            nn.Dropout(),] * (layers-2),\n",
    "            nn.LazyLinear(368),\n",
    "        )\n",
    "    \n",
    "    def forward(self, x):\n",
    "        x = self.linear(x)\n",
    "        return x"
   ]
  },
  {
   "cell_type": "code",
   "execution_count": 13,
   "id": "e092a937",
   "metadata": {
    "execution": {
     "iopub.execute_input": "2024-05-05T06:05:37.062362Z",
     "iopub.status.busy": "2024-05-05T06:05:37.062073Z",
     "iopub.status.idle": "2024-05-05T06:05:37.277160Z",
     "shell.execute_reply": "2024-05-05T06:05:37.276121Z"
    },
    "papermill": {
     "duration": 0.229645,
     "end_time": "2024-05-05T06:05:37.279731",
     "exception": false,
     "start_time": "2024-05-05T06:05:37.050086",
     "status": "completed"
    },
    "tags": []
   },
   "outputs": [
    {
     "name": "stderr",
     "output_type": "stream",
     "text": [
      "/opt/conda/lib/python3.10/site-packages/torch/nn/modules/lazy.py:180: UserWarning: Lazy modules are a new feature under heavy development so changes to the API or functionality can happen at any moment.\n",
      "  warnings.warn('Lazy modules are a new feature under heavy development '\n"
     ]
    },
    {
     "name": "stdout",
     "output_type": "stream",
     "text": [
      "Weights loaded. \n",
      "MLP(\n",
      "  (linear): Sequential(\n",
      "    (0): Linear(in_features=556, out_features=512, bias=True)\n",
      "    (1): ReLU()\n",
      "    (2): Dropout(p=0.5, inplace=False)\n",
      "    (3): LazyLinear(in_features=0, out_features=512, bias=True)\n",
      "    (4): LazyBatchNorm1d(0, eps=1e-05, momentum=0.1, affine=True, track_running_stats=True)\n",
      "    (5): ReLU()\n",
      "    (6): Dropout(p=0.5, inplace=False)\n",
      "    (7): LazyLinear(in_features=0, out_features=512, bias=True)\n",
      "    (8): LazyBatchNorm1d(0, eps=1e-05, momentum=0.1, affine=True, track_running_stats=True)\n",
      "    (9): ReLU()\n",
      "    (10): Dropout(p=0.5, inplace=False)\n",
      "    (11): LazyLinear(in_features=0, out_features=512, bias=True)\n",
      "    (12): LazyBatchNorm1d(0, eps=1e-05, momentum=0.1, affine=True, track_running_stats=True)\n",
      "    (13): ReLU()\n",
      "    (14): Dropout(p=0.5, inplace=False)\n",
      "    (15): LazyLinear(in_features=0, out_features=512, bias=True)\n",
      "    (16): LazyBatchNorm1d(0, eps=1e-05, momentum=0.1, affine=True, track_running_stats=True)\n",
      "    (17): ReLU()\n",
      "    (18): Dropout(p=0.5, inplace=False)\n",
      "    (19): LazyLinear(in_features=0, out_features=512, bias=True)\n",
      "    (20): LazyBatchNorm1d(0, eps=1e-05, momentum=0.1, affine=True, track_running_stats=True)\n",
      "    (21): ReLU()\n",
      "    (22): Dropout(p=0.5, inplace=False)\n",
      "    (23): LazyLinear(in_features=0, out_features=512, bias=True)\n",
      "    (24): LazyBatchNorm1d(0, eps=1e-05, momentum=0.1, affine=True, track_running_stats=True)\n",
      "    (25): ReLU()\n",
      "    (26): Dropout(p=0.5, inplace=False)\n",
      "    (27): LazyLinear(in_features=0, out_features=512, bias=True)\n",
      "    (28): LazyBatchNorm1d(0, eps=1e-05, momentum=0.1, affine=True, track_running_stats=True)\n",
      "    (29): ReLU()\n",
      "    (30): Dropout(p=0.5, inplace=False)\n",
      "    (31): LazyLinear(in_features=0, out_features=512, bias=True)\n",
      "    (32): LazyBatchNorm1d(0, eps=1e-05, momentum=0.1, affine=True, track_running_stats=True)\n",
      "    (33): ReLU()\n",
      "    (34): Dropout(p=0.5, inplace=False)\n",
      "    (35): LazyLinear(in_features=0, out_features=512, bias=True)\n",
      "    (36): LazyBatchNorm1d(0, eps=1e-05, momentum=0.1, affine=True, track_running_stats=True)\n",
      "    (37): ReLU()\n",
      "    (38): Dropout(p=0.5, inplace=False)\n",
      "    (39): LazyLinear(in_features=0, out_features=512, bias=True)\n",
      "    (40): LazyBatchNorm1d(0, eps=1e-05, momentum=0.1, affine=True, track_running_stats=True)\n",
      "    (41): ReLU()\n",
      "    (42): Dropout(p=0.5, inplace=False)\n",
      "    (43): LazyLinear(in_features=0, out_features=368, bias=True)\n",
      "  )\n",
      ")\n"
     ]
    }
   ],
   "source": [
    "net = MLP(12, 512).to(device)\n",
    "try:\n",
    "    weights = torch.load('/kaggle/input/atmospred_mlp/pytorch/trained/1/best.pth', map_location=device)\n",
    "    net.load_state_dict(weights)\n",
    "    print(\"Weights loaded. \")\n",
    "except:\n",
    "    print(\"Weights not loaded. \")\n",
    "print(net)"
   ]
  },
  {
   "cell_type": "markdown",
   "id": "54c90ae7",
   "metadata": {
    "papermill": {
     "duration": 0.011479,
     "end_time": "2024-05-05T06:05:37.303150",
     "exception": false,
     "start_time": "2024-05-05T06:05:37.291671",
     "status": "completed"
    },
    "tags": []
   },
   "source": [
    "# Train Model"
   ]
  },
  {
   "cell_type": "code",
   "execution_count": 14,
   "id": "cc98ca44",
   "metadata": {
    "execution": {
     "iopub.execute_input": "2024-05-05T06:05:37.327633Z",
     "iopub.status.busy": "2024-05-05T06:05:37.327297Z",
     "iopub.status.idle": "2024-05-05T06:05:37.333085Z",
     "shell.execute_reply": "2024-05-05T06:05:37.332205Z"
    },
    "papermill": {
     "duration": 0.02021,
     "end_time": "2024-05-05T06:05:37.334969",
     "exception": false,
     "start_time": "2024-05-05T06:05:37.314759",
     "status": "completed"
    },
    "tags": []
   },
   "outputs": [],
   "source": [
    "def r2score(pred, targ):\n",
    "    targ_mean = torch.mean(targ)\n",
    "    ss_total = torch.sum((targ - targ_mean) ** 2)\n",
    "    ss_residual = torch.sum((targ - pred) ** 2)\n",
    "    r2 = 1 - (ss_residual / ss_total)\n",
    "    return r2\n",
    "\n",
    "criterion = nn.MSELoss()\n",
    "    \n",
    "optimizer = optim.Adam(net.parameters(), lr=lr)"
   ]
  },
  {
   "cell_type": "code",
   "execution_count": 15,
   "id": "bb034f6a",
   "metadata": {
    "execution": {
     "iopub.execute_input": "2024-05-05T06:05:37.362657Z",
     "iopub.status.busy": "2024-05-05T06:05:37.362375Z",
     "iopub.status.idle": "2024-05-05T06:05:37.370567Z",
     "shell.execute_reply": "2024-05-05T06:05:37.369677Z"
    },
    "papermill": {
     "duration": 0.02621,
     "end_time": "2024-05-05T06:05:37.372881",
     "exception": false,
     "start_time": "2024-05-05T06:05:37.346671",
     "status": "completed"
    },
    "tags": []
   },
   "outputs": [],
   "source": [
    "lowest_loss = float('inf')\n",
    "\n",
    "accus, losses = [[],[]], [[],[]]\n",
    "epoch = 0\n",
    "last_epoch = 0"
   ]
  },
  {
   "cell_type": "code",
   "execution_count": 16,
   "id": "9164e23f",
   "metadata": {
    "execution": {
     "iopub.execute_input": "2024-05-05T06:05:37.404801Z",
     "iopub.status.busy": "2024-05-05T06:05:37.404042Z",
     "iopub.status.idle": "2024-05-05T06:05:38.004792Z",
     "shell.execute_reply": "2024-05-05T06:05:38.003874Z"
    },
    "papermill": {
     "duration": 0.619751,
     "end_time": "2024-05-05T06:05:38.007054",
     "exception": false,
     "start_time": "2024-05-05T06:05:37.387303",
     "status": "completed"
    },
    "tags": []
   },
   "outputs": [
    {
     "name": "stdout",
     "output_type": "stream",
     "text": [
      "Train End\n",
      "0 Read dataset chunk size 100000 Time Cost: 42.292s\n"
     ]
    },
    {
     "data": {
      "image/png": "[encoded data removed]",
      "text/plain": [
       "<Figure size 640x480 with 2 Axes>"
      ]
     },
     "metadata": {},
     "output_type": "display_data"
    }
   ],
   "source": [
    "try:\n",
    "    if num_epochs < 1:\n",
    "        raise Exception()\n",
    "    for idx, chunk in enumerate(train_chunks):\n",
    "    # if True:\n",
    "        patience = 0\n",
    "        timer.start(f'Train {num_epochs} epochs on chunk {idx}')\n",
    "        train_loader, val_loader = get_chunk_loader(chunk)\n",
    "        while epoch < num_epochs:\n",
    "            epoch += 1\n",
    "            t0 = time.time()\n",
    "            net.train()\n",
    "            train_loss = 0.0\n",
    "            train_accu = 0.0\n",
    "            num_train_batches = 0\n",
    "\n",
    "            for inp, outp in tqdm(train_loader):\n",
    "                inp, outp = inp.to(device, non_blocking = True), outp.to(device, non_blocking = True)\n",
    "                out_h = net(inp)\n",
    "                crit = criterion(out_h, outp)\n",
    "                loss = crit.item()\n",
    "                train_loss += loss\n",
    "                accu = r2score(out_h, outp)\n",
    "                train_accu += accu\n",
    "                crit.backward()\n",
    "                optimizer.step()\n",
    "                optimizer.zero_grad()\n",
    "                num_train_batches += 1\n",
    "            avg_train_loss = train_loss / num_train_batches\n",
    "            losses[0].append(avg_train_loss)\n",
    "            avg_train_accu = train_accu / num_train_batches\n",
    "            accus[0].append(avg_train_accu.item())\n",
    "\n",
    "            net.eval()\n",
    "            val_loss = 0.0\n",
    "            val_accu = 0.0\n",
    "            num_val_batches = 0\n",
    "\n",
    "            with torch.no_grad():\n",
    "                for inp, outp in tqdm(val_loader):\n",
    "    #                 inp, outp = [inps.to(device, non_blocking=True) for inps in inp], outp.cuda()\n",
    "                    inp, outp = inp.to(device, non_blocking = True), outp.to(device, non_blocking = True)\n",
    "                    out_h = net(inp)\n",
    "                    crit = criterion(out_h, outp)\n",
    "                    val_loss += crit.item()\n",
    "                    accu = r2score(out_h, outp)\n",
    "                    val_accu += accu\n",
    "                    num_val_batches += 1\n",
    "            try:\n",
    "                last_val_loss = avg_val_loss\n",
    "            except:\n",
    "                last_val_loss = lowest_loss\n",
    "            avg_val_loss = val_loss / num_val_batches\n",
    "            losses[1].append(avg_val_loss)\n",
    "            avg_val_accu = val_accu / num_val_batches\n",
    "            accus[1].append(avg_val_accu.item())\n",
    "\n",
    "            if avg_val_loss < lowest_loss:\n",
    "                torch.save(net.state_dict(), 'best.pth')  # 保存模型参数而不是整个模型\n",
    "                lowest_loss = avg_val_loss\n",
    "\n",
    "            t1 = time.time()\n",
    "            print(f'Chunk {idx}:{epoch - last_epoch} | Epoch {epoch}/{num_epochs} > Time Cost: {t1-t0:.2f}s | patience: {patience} \\n\\t', \n",
    "                  f'Train Loss: {avg_train_loss:.3f} | Val Loss: {avg_val_loss:.3f}\\n\\t',\n",
    "                  f'Train Accu: {avg_train_accu:.3f} | Val Accu: {avg_val_accu:.3f}')\n",
    "            if avg_train_loss < avg_val_loss and last_val_loss < avg_val_loss:\n",
    "                patience += 1\n",
    "            else:\n",
    "                patience = 0\n",
    "            if patience >= max_patience:\n",
    "                print(f'{max_patience} epochs had val loss bigger than train loss and validation loss increased. Exit for next chunk of data')\n",
    "                patience = 0\n",
    "                last_epoch = epoch\n",
    "                del(chunk)\n",
    "                break\n",
    "        else:\n",
    "            print(f'Train End. {idx} chunks used. Trained {epoch} epochs. Lowest loss: {lowest_loss}')\n",
    "            del(chunk)\n",
    "            break\n",
    "except:\n",
    "    print('Train End')\n",
    "timer.stop()\n",
    "torch.save(net.state_dict(), \"latest.pth\") \n",
    "graph(accus, losses, 'Train')"
   ]
  },
  {
   "cell_type": "code",
   "execution_count": 17,
   "id": "c046ed3d",
   "metadata": {
    "execution": {
     "iopub.execute_input": "2024-05-05T06:05:38.033121Z",
     "iopub.status.busy": "2024-05-05T06:05:38.032847Z",
     "iopub.status.idle": "2024-05-05T06:05:38.176452Z",
     "shell.execute_reply": "2024-05-05T06:05:38.175555Z"
    },
    "papermill": {
     "duration": 0.158863,
     "end_time": "2024-05-05T06:05:38.178480",
     "exception": false,
     "start_time": "2024-05-05T06:05:38.019617",
     "status": "completed"
    },
    "tags": []
   },
   "outputs": [
    {
     "data": {
      "text/plain": [
       "6762"
      ]
     },
     "execution_count": 17,
     "metadata": {},
     "output_type": "execute_result"
    }
   ],
   "source": [
    "# 清理\n",
    "del(train_dataset)\n",
    "del(train_loader)\n",
    "del(val_dataset)\n",
    "del(val_loader)\n",
    "\n",
    "gc.collect()"
   ]
  },
  {
   "cell_type": "markdown",
   "id": "4749a192",
   "metadata": {
    "papermill": {
     "duration": 0.012162,
     "end_time": "2024-05-05T06:05:38.202963",
     "exception": false,
     "start_time": "2024-05-05T06:05:38.190801",
     "status": "completed"
    },
    "tags": []
   },
   "source": [
    "# Test Model"
   ]
  },
  {
   "cell_type": "code",
   "execution_count": 18,
   "id": "6dbb1df0",
   "metadata": {
    "execution": {
     "iopub.execute_input": "2024-05-05T06:05:38.228844Z",
     "iopub.status.busy": "2024-05-05T06:05:38.228284Z",
     "iopub.status.idle": "2024-05-05T06:05:38.233279Z",
     "shell.execute_reply": "2024-05-05T06:05:38.232315Z"
    },
    "papermill": {
     "duration": 0.020341,
     "end_time": "2024-05-05T06:05:38.235316",
     "exception": false,
     "start_time": "2024-05-05T06:05:38.214975",
     "status": "completed"
    },
    "tags": []
   },
   "outputs": [
    {
     "name": "stdout",
     "output_type": "stream",
     "text": [
      "Latest net released!\n"
     ]
    }
   ],
   "source": [
    "try:\n",
    "    del(net)\n",
    "    print('Latest net released!')\n",
    "except:\n",
    "    print('No model trained')"
   ]
  },
  {
   "cell_type": "code",
   "execution_count": 19,
   "id": "a0b3274e",
   "metadata": {
    "execution": {
     "iopub.execute_input": "2024-05-05T06:05:38.261917Z",
     "iopub.status.busy": "2024-05-05T06:05:38.261223Z",
     "iopub.status.idle": "2024-05-05T06:05:38.282315Z",
     "shell.execute_reply": "2024-05-05T06:05:38.281223Z"
    },
    "papermill": {
     "duration": 0.036481,
     "end_time": "2024-05-05T06:05:38.284418",
     "exception": false,
     "start_time": "2024-05-05T06:05:38.247937",
     "status": "completed"
    },
    "tags": []
   },
   "outputs": [
    {
     "name": "stdout",
     "output_type": "stream",
     "text": [
      "Load best model.\n"
     ]
    }
   ],
   "source": [
    "net = MLP(12, 512).to(device)\n",
    "# net.load_state_dict(torch.load('/kaggle/input/atmospred/pytorch/trained.pth/1/20240502-001.pth', map_location=device))\n",
    "try:\n",
    "    net.load_state_dict(torch.load('best.pth', map_location=device))\n",
    "except:\n",
    "    net.load_state_dict(torch.load('/kaggle/input/atmospred_mlp/pytorch/trained/1/best.pth', map_location=device))\n",
    "print('Load best model.')"
   ]
  },
  {
   "cell_type": "code",
   "execution_count": 20,
   "id": "de4bb538",
   "metadata": {
    "execution": {
     "iopub.execute_input": "2024-05-05T06:05:38.311060Z",
     "iopub.status.busy": "2024-05-05T06:05:38.310373Z",
     "iopub.status.idle": "2024-05-05T06:05:38.315490Z",
     "shell.execute_reply": "2024-05-05T06:05:38.314669Z"
    },
    "papermill": {
     "duration": 0.020795,
     "end_time": "2024-05-05T06:05:38.317507",
     "exception": false,
     "start_time": "2024-05-05T06:05:38.296712",
     "status": "completed"
    },
    "tags": []
   },
   "outputs": [
    {
     "name": "stdout",
     "output_type": "stream",
     "text": [
      "len(test_loader) = 28\n"
     ]
    }
   ],
   "source": [
    "test_dataset = MLP_Dataset(test_in, test_out)\n",
    "test_loader = DataLoader(test_dataset, batch_size = batch_size, shuffle=True, num_workers=num_workers, pin_memory=True)\n",
    "print(f'{len(test_loader) = }')"
   ]
  },
  {
   "cell_type": "code",
   "execution_count": 21,
   "id": "2ae26b1a",
   "metadata": {
    "execution": {
     "iopub.execute_input": "2024-05-05T06:05:38.343902Z",
     "iopub.status.busy": "2024-05-05T06:05:38.343336Z",
     "iopub.status.idle": "2024-05-05T06:05:47.366631Z",
     "shell.execute_reply": "2024-05-05T06:05:47.365549Z"
    },
    "papermill": {
     "duration": 9.039147,
     "end_time": "2024-05-05T06:05:47.368903",
     "exception": false,
     "start_time": "2024-05-05T06:05:38.329756",
     "status": "completed"
    },
    "tags": []
   },
   "outputs": [
    {
     "name": "stderr",
     "output_type": "stream",
     "text": [
      "100%|██████████| 28/28 [00:09<00:00,  3.11it/s]"
     ]
    },
    {
     "name": "stdout",
     "output_type": "stream",
     "text": [
      "Test Loss: 110.002 | Test Accu: 0.840\n",
      "1 Run Test Time Cost: 9.016s\n"
     ]
    },
    {
     "name": "stderr",
     "output_type": "stream",
     "text": [
      "\n"
     ]
    }
   ],
   "source": [
    "timer.start('Run Test')\n",
    "net.eval()\n",
    "test_loss = 0.0\n",
    "test_accu = 0.0\n",
    "num_test_batches = 0\n",
    "\n",
    "with torch.no_grad():\n",
    "    for i, (inp, outp) in enumerate(tqdm(test_loader)):\n",
    "        inp, outp = inp.to(device, non_blocking=True), outp.to(device)\n",
    "        out_h = net(inp)\n",
    "        crit = criterion(out_h, outp)\n",
    "        test_loss += crit.item()\n",
    "        test_accu += r2score(out_h, outp)\n",
    "        num_test_batches += 1\n",
    "\n",
    "avg_test_loss = test_loss / num_test_batches\n",
    "avg_test_accu = test_accu / num_test_batches\n",
    "\n",
    "print(f'Test Loss: {avg_test_loss:.3f} | Test Accu: {avg_test_accu:.3f}')\n",
    "timer.stop()"
   ]
  },
  {
   "cell_type": "code",
   "execution_count": 22,
   "id": "441c0b17",
   "metadata": {
    "execution": {
     "iopub.execute_input": "2024-05-05T06:05:47.396271Z",
     "iopub.status.busy": "2024-05-05T06:05:47.395686Z",
     "iopub.status.idle": "2024-05-05T06:05:47.573227Z",
     "shell.execute_reply": "2024-05-05T06:05:47.572331Z"
    },
    "papermill": {
     "duration": 0.193119,
     "end_time": "2024-05-05T06:05:47.575097",
     "exception": false,
     "start_time": "2024-05-05T06:05:47.381978",
     "status": "completed"
    },
    "tags": []
   },
   "outputs": [
    {
     "data": {
      "text/plain": [
       "90"
      ]
     },
     "execution_count": 22,
     "metadata": {},
     "output_type": "execute_result"
    }
   ],
   "source": [
    "# 清理变量\n",
    "del(test_dataset)\n",
    "del(test_loader)\n",
    "del(out_h)\n",
    "del(inp)\n",
    "del(outp)\n",
    "\n",
    "gc.collect()"
   ]
  },
  {
   "cell_type": "markdown",
   "id": "63b34866",
   "metadata": {
    "papermill": {
     "duration": 0.013057,
     "end_time": "2024-05-05T06:05:47.601795",
     "exception": false,
     "start_time": "2024-05-05T06:05:47.588738",
     "status": "completed"
    },
    "tags": []
   },
   "source": [
    "# Submission"
   ]
  },
  {
   "cell_type": "code",
   "execution_count": 23,
   "id": "09a0115b",
   "metadata": {
    "execution": {
     "iopub.execute_input": "2024-05-05T06:05:47.629297Z",
     "iopub.status.busy": "2024-05-05T06:05:47.628992Z",
     "iopub.status.idle": "2024-05-05T06:06:30.880284Z",
     "shell.execute_reply": "2024-05-05T06:06:30.879260Z"
    },
    "papermill": {
     "duration": 43.280762,
     "end_time": "2024-05-05T06:06:30.895532",
     "exception": false,
     "start_time": "2024-05-05T06:05:47.614770",
     "status": "completed"
    },
    "tags": []
   },
   "outputs": [
    {
     "name": "stdout",
     "output_type": "stream",
     "text": [
      "2 Read test csv dataset and submission sample Time Cost: 43.244s\n"
     ]
    }
   ],
   "source": [
    "import polars as pl\n",
    "\n",
    "timer.start('Read test csv dataset and submission sample')\n",
    "subm_set = pl.read_csv(test_csv)\n",
    "subm_multip = pl.read_csv(subm_spl)\n",
    "timer.stop()\n",
    "sample_cols = subm_multip.columns"
   ]
  },
  {
   "cell_type": "code",
   "execution_count": 24,
   "id": "474b3336",
   "metadata": {
    "execution": {
     "iopub.execute_input": "2024-05-05T06:06:30.922800Z",
     "iopub.status.busy": "2024-05-05T06:06:30.922510Z",
     "iopub.status.idle": "2024-05-05T06:06:30.949682Z",
     "shell.execute_reply": "2024-05-05T06:06:30.948774Z"
    },
    "papermill": {
     "duration": 0.043096,
     "end_time": "2024-05-05T06:06:30.951703",
     "exception": false,
     "start_time": "2024-05-05T06:06:30.908607",
     "status": "completed"
    },
    "tags": []
   },
   "outputs": [
    {
     "data": {
      "text/html": [
       "<div><style>\n",
       ".dataframe > thead > tr,\n",
       ".dataframe > tbody > tr {\n",
       "  text-align: right;\n",
       "  white-space: pre-wrap;\n",
       "}\n",
       "</style>\n",
       "<small>shape: (2, 369)</small><table border=\"1\" class=\"dataframe\"><thead><tr><th>sample_id</th><th>ptend_t_0</th><th>ptend_t_1</th><th>ptend_t_2</th><th>ptend_t_3</th><th>ptend_t_4</th><th>ptend_t_5</th><th>ptend_t_6</th><th>ptend_t_7</th><th>ptend_t_8</th><th>ptend_t_9</th><th>ptend_t_10</th><th>ptend_t_11</th><th>ptend_t_12</th><th>ptend_t_13</th><th>ptend_t_14</th><th>ptend_t_15</th><th>ptend_t_16</th><th>ptend_t_17</th><th>ptend_t_18</th><th>ptend_t_19</th><th>ptend_t_20</th><th>ptend_t_21</th><th>ptend_t_22</th><th>ptend_t_23</th><th>ptend_t_24</th><th>ptend_t_25</th><th>ptend_t_26</th><th>ptend_t_27</th><th>ptend_t_28</th><th>ptend_t_29</th><th>ptend_t_30</th><th>ptend_t_31</th><th>ptend_t_32</th><th>ptend_t_33</th><th>ptend_t_34</th><th>ptend_t_35</th><th>&hellip;</th><th>ptend_v_31</th><th>ptend_v_32</th><th>ptend_v_33</th><th>ptend_v_34</th><th>ptend_v_35</th><th>ptend_v_36</th><th>ptend_v_37</th><th>ptend_v_38</th><th>ptend_v_39</th><th>ptend_v_40</th><th>ptend_v_41</th><th>ptend_v_42</th><th>ptend_v_43</th><th>ptend_v_44</th><th>ptend_v_45</th><th>ptend_v_46</th><th>ptend_v_47</th><th>ptend_v_48</th><th>ptend_v_49</th><th>ptend_v_50</th><th>ptend_v_51</th><th>ptend_v_52</th><th>ptend_v_53</th><th>ptend_v_54</th><th>ptend_v_55</th><th>ptend_v_56</th><th>ptend_v_57</th><th>ptend_v_58</th><th>ptend_v_59</th><th>cam_out_NETSW</th><th>cam_out_FLWDS</th><th>cam_out_PRECSC</th><th>cam_out_PRECC</th><th>cam_out_SOLS</th><th>cam_out_SOLL</th><th>cam_out_SOLSD</th><th>cam_out_SOLLD</th></tr><tr><td>str</td><td>f64</td><td>f64</td><td>f64</td><td>f64</td><td>f64</td><td>f64</td><td>f64</td><td>f64</td><td>f64</td><td>f64</td><td>f64</td><td>f64</td><td>f64</td><td>f64</td><td>f64</td><td>f64</td><td>f64</td><td>f64</td><td>f64</td><td>f64</td><td>f64</td><td>f64</td><td>f64</td><td>f64</td><td>f64</td><td>f64</td><td>f64</td><td>f64</td><td>f64</td><td>f64</td><td>f64</td><td>f64</td><td>f64</td><td>f64</td><td>f64</td><td>f64</td><td>&hellip;</td><td>f64</td><td>f64</td><td>f64</td><td>f64</td><td>f64</td><td>f64</td><td>f64</td><td>f64</td><td>f64</td><td>f64</td><td>f64</td><td>f64</td><td>f64</td><td>f64</td><td>f64</td><td>f64</td><td>f64</td><td>f64</td><td>f64</td><td>f64</td><td>f64</td><td>f64</td><td>f64</td><td>f64</td><td>f64</td><td>f64</td><td>f64</td><td>f64</td><td>f64</td><td>f64</td><td>f64</td><td>f64</td><td>f64</td><td>f64</td><td>f64</td><td>f64</td><td>f64</td></tr></thead><tbody><tr><td>&quot;test_169651&quot;</td><td>30981.265272</td><td>22502.432414</td><td>18894.14713</td><td>14514.244731</td><td>10944.348069</td><td>9065.01072</td><td>9663.669039</td><td>12688.557363</td><td>19890.172265</td><td>25831.373172</td><td>33890.367562</td><td>44122.94111</td><td>59811.255951</td><td>79434.075001</td><td>107358.809169</td><td>135720.841835</td><td>149399.841111</td><td>128492.951853</td><td>91746.236873</td><td>72748.769111</td><td>66531.535968</td><td>62932.305984</td><td>56610.268743</td><td>49473.143692</td><td>43029.184954</td><td>36912.674919</td><td>31486.931179</td><td>26898.072997</td><td>23316.638283</td><td>20459.731332</td><td>18385.683096</td><td>17111.405108</td><td>16337.80992</td><td>15857.759882</td><td>15580.902485</td><td>15497.59046</td><td>&hellip;</td><td>122460.653992</td><td>132086.693875</td><td>141041.48571</td><td>146354.094413</td><td>145953.095901</td><td>139496.800789</td><td>128508.851082</td><td>116665.517697</td><td>107458.397063</td><td>100259.972367</td><td>94108.98505</td><td>88439.894562</td><td>82734.902766</td><td>77061.086214</td><td>71333.531924</td><td>65999.725321</td><td>61798.997206</td><td>58237.35642</td><td>54715.102663</td><td>50825.844317</td><td>46059.176887</td><td>40740.260504</td><td>36335.802283</td><td>33981.575686</td><td>33589.714339</td><td>33988.885241</td><td>36272.936451</td><td>41183.344137</td><td>29194.123693</td><td>0.004054</td><td>0.013882</td><td>1.3513e8</td><td>1.2220e7</td><td>0.009071</td><td>0.00859</td><td>0.021537</td><td>0.033632</td></tr><tr><td>&quot;test_524862&quot;</td><td>30981.265272</td><td>22502.432414</td><td>18894.14713</td><td>14514.244731</td><td>10944.348069</td><td>9065.01072</td><td>9663.669039</td><td>12688.557363</td><td>19890.172265</td><td>25831.373172</td><td>33890.367562</td><td>44122.94111</td><td>59811.255951</td><td>79434.075001</td><td>107358.809169</td><td>135720.841835</td><td>149399.841111</td><td>128492.951853</td><td>91746.236873</td><td>72748.769111</td><td>66531.535968</td><td>62932.305984</td><td>56610.268743</td><td>49473.143692</td><td>43029.184954</td><td>36912.674919</td><td>31486.931179</td><td>26898.072997</td><td>23316.638283</td><td>20459.731332</td><td>18385.683096</td><td>17111.405108</td><td>16337.80992</td><td>15857.759882</td><td>15580.902485</td><td>15497.59046</td><td>&hellip;</td><td>122460.653992</td><td>132086.693875</td><td>141041.48571</td><td>146354.094413</td><td>145953.095901</td><td>139496.800789</td><td>128508.851082</td><td>116665.517697</td><td>107458.397063</td><td>100259.972367</td><td>94108.98505</td><td>88439.894562</td><td>82734.902766</td><td>77061.086214</td><td>71333.531924</td><td>65999.725321</td><td>61798.997206</td><td>58237.35642</td><td>54715.102663</td><td>50825.844317</td><td>46059.176887</td><td>40740.260504</td><td>36335.802283</td><td>33981.575686</td><td>33589.714339</td><td>33988.885241</td><td>36272.936451</td><td>41183.344137</td><td>29194.123693</td><td>0.004054</td><td>0.013882</td><td>1.3513e8</td><td>1.2220e7</td><td>0.009071</td><td>0.00859</td><td>0.021537</td><td>0.033632</td></tr></tbody></table></div>"
      ],
      "text/plain": [
       "shape: (2, 369)\n",
       "┌───────────┬───────────┬───────────┬───────────┬───┬───────────┬───────────┬───────────┬──────────┐\n",
       "│ sample_id ┆ ptend_t_0 ┆ ptend_t_1 ┆ ptend_t_2 ┆ … ┆ cam_out_S ┆ cam_out_S ┆ cam_out_S ┆ cam_out_ │\n",
       "│ ---       ┆ ---       ┆ ---       ┆ ---       ┆   ┆ OLS       ┆ OLL       ┆ OLSD      ┆ SOLLD    │\n",
       "│ str       ┆ f64       ┆ f64       ┆ f64       ┆   ┆ ---       ┆ ---       ┆ ---       ┆ ---      │\n",
       "│           ┆           ┆           ┆           ┆   ┆ f64       ┆ f64       ┆ f64       ┆ f64      │\n",
       "╞═══════════╪═══════════╪═══════════╪═══════════╪═══╪═══════════╪═══════════╪═══════════╪══════════╡\n",
       "│ test_1696 ┆ 30981.265 ┆ 22502.432 ┆ 18894.147 ┆ … ┆ 0.009071  ┆ 0.00859   ┆ 0.021537  ┆ 0.033632 │\n",
       "│ 51        ┆ 272       ┆ 414       ┆ 13        ┆   ┆           ┆           ┆           ┆          │\n",
       "│ test_5248 ┆ 30981.265 ┆ 22502.432 ┆ 18894.147 ┆ … ┆ 0.009071  ┆ 0.00859   ┆ 0.021537  ┆ 0.033632 │\n",
       "│ 62        ┆ 272       ┆ 414       ┆ 13        ┆   ┆           ┆           ┆           ┆          │\n",
       "└───────────┴───────────┴───────────┴───────────┴───┴───────────┴───────────┴───────────┴──────────┘"
      ]
     },
     "execution_count": 24,
     "metadata": {},
     "output_type": "execute_result"
    }
   ],
   "source": [
    "subm_multip.head(2)"
   ]
  },
  {
   "cell_type": "code",
   "execution_count": 25,
   "id": "4d267776",
   "metadata": {
    "execution": {
     "iopub.execute_input": "2024-05-05T06:06:30.979344Z",
     "iopub.status.busy": "2024-05-05T06:06:30.979056Z",
     "iopub.status.idle": "2024-05-05T06:06:33.395427Z",
     "shell.execute_reply": "2024-05-05T06:06:33.394478Z"
    },
    "papermill": {
     "duration": 2.432602,
     "end_time": "2024-05-05T06:06:33.397558",
     "exception": false,
     "start_time": "2024-05-05T06:06:30.964956",
     "status": "completed"
    },
    "tags": []
   },
   "outputs": [
    {
     "data": {
      "text/plain": [
       "(625000, 556)"
      ]
     },
     "execution_count": 25,
     "metadata": {},
     "output_type": "execute_result"
    }
   ],
   "source": [
    "insts = subm_set[subm_set.columns[0]]\n",
    "subm_in = subm_set[subm_set.columns[1:]].to_pandas()\n",
    "del(subm_set)\n",
    "subm_in.shape"
   ]
  },
  {
   "cell_type": "code",
   "execution_count": 26,
   "id": "84578a6a",
   "metadata": {
    "execution": {
     "iopub.execute_input": "2024-05-05T06:06:33.426078Z",
     "iopub.status.busy": "2024-05-05T06:06:33.425747Z",
     "iopub.status.idle": "2024-05-05T06:06:33.580437Z",
     "shell.execute_reply": "2024-05-05T06:06:33.579419Z"
    },
    "papermill": {
     "duration": 0.172347,
     "end_time": "2024-05-05T06:06:33.583549",
     "exception": false,
     "start_time": "2024-05-05T06:06:33.411202",
     "status": "completed"
    },
    "tags": []
   },
   "outputs": [
    {
     "name": "stdout",
     "output_type": "stream",
     "text": [
      "len(subm_loader) = 1737\n",
      "subm_dataset[0].shape = torch.Size([1, 556])\n"
     ]
    },
    {
     "name": "stderr",
     "output_type": "stream",
     "text": [
      "/opt/conda/lib/python3.10/site-packages/torch/utils/data/dataloader.py:557: UserWarning: This DataLoader will create 256 worker processes in total. Our suggested max number of worker in current system is 4, which is smaller than what this DataLoader is going to create. Please be aware that excessive worker creation might get DataLoader running slow or even freeze, lower the worker number to avoid potential slowness/freeze if necessary.\n",
      "  warnings.warn(_create_warning_msg(\n"
     ]
    },
    {
     "data": {
      "text/plain": [
       "30"
      ]
     },
     "execution_count": 26,
     "metadata": {},
     "output_type": "execute_result"
    }
   ],
   "source": [
    "subm_dataset = MLP_Dataset(subm_in, test=True)\n",
    "subm_loader = DataLoader(subm_dataset, batch_size = batch_size, shuffle=False, num_workers=num_workers, pin_memory=True)\n",
    "print(f'{len(subm_loader) = }')\n",
    "print(f'{subm_dataset[0].shape = }')\n",
    "del(subm_in)\n",
    "gc.collect()"
   ]
  },
  {
   "cell_type": "code",
   "execution_count": 27,
   "id": "005caa74",
   "metadata": {
    "execution": {
     "iopub.execute_input": "2024-05-05T06:06:33.614318Z",
     "iopub.status.busy": "2024-05-05T06:06:33.613990Z",
     "iopub.status.idle": "2024-05-05T06:06:45.462032Z",
     "shell.execute_reply": "2024-05-05T06:06:45.461032Z"
    },
    "papermill": {
     "duration": 11.865777,
     "end_time": "2024-05-05T06:06:45.464086",
     "exception": false,
     "start_time": "2024-05-05T06:06:33.598309",
     "status": "completed"
    },
    "tags": []
   },
   "outputs": [
    {
     "data": {
      "text/plain": [
       "((625000, 369),\n",
       " array(['test_169651', 'test_524862', 'test_634129', ..., 'test_88942',\n",
       "        'test_79382', 'test_601350'], dtype=object))"
      ]
     },
     "execution_count": 27,
     "metadata": {},
     "output_type": "execute_result"
    }
   ],
   "source": [
    "subm_multip = subm_multip.to_numpy()\n",
    "subm_multip.shape, subm_multip[:, 0]"
   ]
  },
  {
   "cell_type": "code",
   "execution_count": 28,
   "id": "ee675a19",
   "metadata": {
    "execution": {
     "iopub.execute_input": "2024-05-05T06:06:45.537235Z",
     "iopub.status.busy": "2024-05-05T06:06:45.536870Z",
     "iopub.status.idle": "2024-05-05T06:07:01.716046Z",
     "shell.execute_reply": "2024-05-05T06:07:01.715052Z"
    },
    "papermill": {
     "duration": 16.196717,
     "end_time": "2024-05-05T06:07:01.718089",
     "exception": false,
     "start_time": "2024-05-05T06:06:45.521372",
     "status": "completed"
    },
    "tags": []
   },
   "outputs": [
    {
     "data": {
      "text/plain": [
       "(torch.Size([625000, 368]),\n",
       " tensor([[18894.1465, 14514.2451],\n",
       "         [18894.1465, 14514.2451],\n",
       "         [18894.1465, 14514.2451]], device='cuda:0'))"
      ]
     },
     "execution_count": 28,
     "metadata": {},
     "output_type": "execute_result"
    }
   ],
   "source": [
    "out_df = subm_multip[:, 1:].astype(float)\n",
    "out_df = torch.tensor(out_df).to(device).to(torch.float32)\n",
    "out_df.shape, out_df[1:4, 2:4]"
   ]
  },
  {
   "cell_type": "code",
   "execution_count": 29,
   "id": "9bb59bf1",
   "metadata": {
    "execution": {
     "iopub.execute_input": "2024-05-05T06:07:01.747434Z",
     "iopub.status.busy": "2024-05-05T06:07:01.747131Z",
     "iopub.status.idle": "2024-05-05T06:07:01.752838Z",
     "shell.execute_reply": "2024-05-05T06:07:01.752166Z"
    },
    "papermill": {
     "duration": 0.022329,
     "end_time": "2024-05-05T06:07:01.754646",
     "exception": false,
     "start_time": "2024-05-05T06:07:01.732317",
     "status": "completed"
    },
    "tags": []
   },
   "outputs": [],
   "source": [
    "def convert_output(pred):\n",
    "    \"\"\"将输出张量转换为 dataframe 的 n 行\"\"\"\n",
    "    pred = pred.squeeze(1)\n",
    "    return pred\n",
    "\n",
    "def postprocess(pred, scaler):\n",
    "    pred = convert_output(pred)\n",
    "    scaler *= pred\n",
    "    return scaler"
   ]
  },
  {
   "cell_type": "code",
   "execution_count": 30,
   "id": "aba13896",
   "metadata": {
    "execution": {
     "iopub.execute_input": "2024-05-05T06:07:01.783374Z",
     "iopub.status.busy": "2024-05-05T06:07:01.783110Z",
     "iopub.status.idle": "2024-05-05T06:07:01.787707Z",
     "shell.execute_reply": "2024-05-05T06:07:01.786855Z"
    },
    "papermill": {
     "duration": 0.021119,
     "end_time": "2024-05-05T06:07:01.789692",
     "exception": false,
     "start_time": "2024-05-05T06:07:01.768573",
     "status": "completed"
    },
    "tags": []
   },
   "outputs": [
    {
     "name": "stdout",
     "output_type": "stream",
     "text": [
      "Submission data lenth 1737\n"
     ]
    }
   ],
   "source": [
    "result = None\n",
    "data_len = len(subm_loader)\n",
    "print(f'Submission data lenth {data_len}')"
   ]
  },
  {
   "cell_type": "code",
   "execution_count": 31,
   "id": "c3469807",
   "metadata": {
    "execution": {
     "iopub.execute_input": "2024-05-05T06:07:01.821609Z",
     "iopub.status.busy": "2024-05-05T06:07:01.821295Z",
     "iopub.status.idle": "2024-05-05T06:08:35.383094Z",
     "shell.execute_reply": "2024-05-05T06:08:35.381926Z"
    },
    "papermill": {
     "duration": 93.609269,
     "end_time": "2024-05-05T06:08:35.413052",
     "exception": false,
     "start_time": "2024-05-05T06:07:01.803783",
     "status": "completed"
    },
    "tags": []
   },
   "outputs": [
    {
     "name": "stdout",
     "output_type": "stream",
     "text": [
      "0\n",
      "[========================C-] Batch 1736/1737 > result.shape = torch.Size([625000, 368]) | 129.75it/s\r\n",
      "\n",
      "Batch 1736 > result.shape = torch.Size([625000, 368]) | \n",
      "3 Get outputs Time Cost: 93.410s\n"
     ]
    }
   ],
   "source": [
    "print(gc.collect())\n",
    "timer.start('Get outputs')\n",
    "with torch.no_grad():\n",
    "    for i, smp in enumerate(subm_loader):\n",
    "        t0 = time.time()\n",
    "        smp =  smp.to(device, non_blocking=True)\n",
    "#         print('smp to device', end='\\r')\n",
    "        scaler = out_df[i*batch_size:(i+1)*batch_size, :]\n",
    "#         print('get scaler', end='\\r')\n",
    "        pred = net(smp)\n",
    "#         print('infer', end='\\r')\n",
    "        scaler = postprocess(pred, scaler)\n",
    "#         print('post process', end='\\r')\n",
    "        if i == 0:\n",
    "            result = scaler\n",
    "        else:\n",
    "            result = torch.cat((result, scaler), axis=0)\n",
    "        print(f'[{\"=\" * int(25 * i / data_len)}{\"C\" if i % 2 == 0 else \"c\"}{\"-\" * (25 - int(25 * i / data_len))}] Batch {i}/{data_len} > {result.shape = } | {1 / (time.time() - t0):.2f}it/s', end='\\r')\n",
    "    print('\\n')\n",
    "print(f'Batch {i} > {result.shape = } | ')\n",
    "timer.stop()"
   ]
  },
  {
   "cell_type": "code",
   "execution_count": 32,
   "id": "88390b67",
   "metadata": {
    "execution": {
     "iopub.execute_input": "2024-05-05T06:08:35.466960Z",
     "iopub.status.busy": "2024-05-05T06:08:35.466573Z",
     "iopub.status.idle": "2024-05-05T06:08:36.248576Z",
     "shell.execute_reply": "2024-05-05T06:08:36.247504Z"
    },
    "papermill": {
     "duration": 0.811975,
     "end_time": "2024-05-05T06:08:36.250671",
     "exception": false,
     "start_time": "2024-05-05T06:08:35.438696",
     "status": "completed"
    },
    "tags": []
   },
   "outputs": [
    {
     "data": {
      "text/plain": [
       "((625000, 368), dtype('float32'))"
      ]
     },
     "execution_count": 32,
     "metadata": {},
     "output_type": "execute_result"
    }
   ],
   "source": [
    "result = result.to('cpu').detach().numpy()\n",
    "result.shape, result.dtype"
   ]
  },
  {
   "cell_type": "code",
   "execution_count": 33,
   "id": "964ab81d",
   "metadata": {
    "execution": {
     "iopub.execute_input": "2024-05-05T06:08:36.306092Z",
     "iopub.status.busy": "2024-05-05T06:08:36.305547Z",
     "iopub.status.idle": "2024-05-05T06:08:39.926423Z",
     "shell.execute_reply": "2024-05-05T06:08:39.924885Z"
    },
    "papermill": {
     "duration": 3.651053,
     "end_time": "2024-05-05T06:08:39.928995",
     "exception": false,
     "start_time": "2024-05-05T06:08:36.277942",
     "status": "completed"
    },
    "tags": []
   },
   "outputs": [
    {
     "data": {
      "text/plain": [
       "(shape: (2, 1)\n",
       " ┌─────────────┐\n",
       " │ sample_id   │\n",
       " │ ---         │\n",
       " │ str         │\n",
       " ╞═════════════╡\n",
       " │ test_169651 │\n",
       " │ test_524862 │\n",
       " └─────────────┘,\n",
       " shape: (2, 368)\n",
       " ┌───────────┬───────────┬───────────┬───────────┬───┬───────────┬───────────┬───────────┬──────────┐\n",
       " │ ptend_t_0 ┆ ptend_t_1 ┆ ptend_t_2 ┆ ptend_t_3 ┆ … ┆ cam_out_S ┆ cam_out_S ┆ cam_out_S ┆ cam_out_ │\n",
       " │ ---       ┆ ---       ┆ ---       ┆ ---       ┆   ┆ OLS       ┆ OLL       ┆ OLSD      ┆ SOLLD    │\n",
       " │ f32       ┆ f32       ┆ f32       ┆ f32       ┆   ┆ ---       ┆ ---       ┆ ---       ┆ ---      │\n",
       " │           ┆           ┆           ┆           ┆   ┆ f32       ┆ f32       ┆ f32       ┆ f32      │\n",
       " ╞═══════════╪═══════════╪═══════════╪═══════════╪═══╪═══════════╪═══════════╪═══════════╪══════════╡\n",
       " │ 112.92030 ┆ 80.728722 ┆ -113.7368 ┆ 73.368103 ┆ … ┆ 0.037648  ┆ 0.059808  ┆ 0.190383  ┆ 0.180304 │\n",
       " │ 3         ┆           ┆ 16        ┆           ┆   ┆           ┆           ┆           ┆          │\n",
       " │ 112.92030 ┆ 80.728722 ┆ -113.7368 ┆ 73.368103 ┆ … ┆ 0.037648  ┆ 0.059808  ┆ 0.190383  ┆ 0.180304 │\n",
       " │ 3         ┆           ┆ 16        ┆           ┆   ┆           ┆           ┆           ┆          │\n",
       " └───────────┴───────────┴───────────┴───────────┴───┴───────────┴───────────┴───────────┴──────────┘)"
      ]
     },
     "execution_count": 33,
     "metadata": {},
     "output_type": "execute_result"
    }
   ],
   "source": [
    "sample_ids = pl.from_numpy(subm_multip[:, 0].reshape(-1 ,1))\n",
    "sample_ids.columns = sample_cols[0:1]\n",
    "sample_prs = pl.from_numpy(result)\n",
    "sample_prs.columns = sample_cols[1:]\n",
    "del(subm_multip)\n",
    "sample_ids.head(2), sample_prs.head(2)"
   ]
  },
  {
   "cell_type": "code",
   "execution_count": 34,
   "id": "9fdc1e70",
   "metadata": {
    "execution": {
     "iopub.execute_input": "2024-05-05T06:08:39.982636Z",
     "iopub.status.busy": "2024-05-05T06:08:39.982341Z",
     "iopub.status.idle": "2024-05-05T06:08:40.007743Z",
     "shell.execute_reply": "2024-05-05T06:08:40.006886Z"
    },
    "papermill": {
     "duration": 0.05415,
     "end_time": "2024-05-05T06:08:40.009853",
     "exception": false,
     "start_time": "2024-05-05T06:08:39.955703",
     "status": "completed"
    },
    "tags": []
   },
   "outputs": [
    {
     "data": {
      "text/html": [
       "<div><style>\n",
       ".dataframe > thead > tr,\n",
       ".dataframe > tbody > tr {\n",
       "  text-align: right;\n",
       "  white-space: pre-wrap;\n",
       "}\n",
       "</style>\n",
       "<small>shape: (2, 369)</small><table border=\"1\" class=\"dataframe\"><thead><tr><th>sample_id</th><th>ptend_t_0</th><th>ptend_t_1</th><th>ptend_t_2</th><th>ptend_t_3</th><th>ptend_t_4</th><th>ptend_t_5</th><th>ptend_t_6</th><th>ptend_t_7</th><th>ptend_t_8</th><th>ptend_t_9</th><th>ptend_t_10</th><th>ptend_t_11</th><th>ptend_t_12</th><th>ptend_t_13</th><th>ptend_t_14</th><th>ptend_t_15</th><th>ptend_t_16</th><th>ptend_t_17</th><th>ptend_t_18</th><th>ptend_t_19</th><th>ptend_t_20</th><th>ptend_t_21</th><th>ptend_t_22</th><th>ptend_t_23</th><th>ptend_t_24</th><th>ptend_t_25</th><th>ptend_t_26</th><th>ptend_t_27</th><th>ptend_t_28</th><th>ptend_t_29</th><th>ptend_t_30</th><th>ptend_t_31</th><th>ptend_t_32</th><th>ptend_t_33</th><th>ptend_t_34</th><th>ptend_t_35</th><th>&hellip;</th><th>ptend_v_31</th><th>ptend_v_32</th><th>ptend_v_33</th><th>ptend_v_34</th><th>ptend_v_35</th><th>ptend_v_36</th><th>ptend_v_37</th><th>ptend_v_38</th><th>ptend_v_39</th><th>ptend_v_40</th><th>ptend_v_41</th><th>ptend_v_42</th><th>ptend_v_43</th><th>ptend_v_44</th><th>ptend_v_45</th><th>ptend_v_46</th><th>ptend_v_47</th><th>ptend_v_48</th><th>ptend_v_49</th><th>ptend_v_50</th><th>ptend_v_51</th><th>ptend_v_52</th><th>ptend_v_53</th><th>ptend_v_54</th><th>ptend_v_55</th><th>ptend_v_56</th><th>ptend_v_57</th><th>ptend_v_58</th><th>ptend_v_59</th><th>cam_out_NETSW</th><th>cam_out_FLWDS</th><th>cam_out_PRECSC</th><th>cam_out_PRECC</th><th>cam_out_SOLS</th><th>cam_out_SOLL</th><th>cam_out_SOLSD</th><th>cam_out_SOLLD</th></tr><tr><td>str</td><td>f32</td><td>f32</td><td>f32</td><td>f32</td><td>f32</td><td>f32</td><td>f32</td><td>f32</td><td>f32</td><td>f32</td><td>f32</td><td>f32</td><td>f32</td><td>f32</td><td>f32</td><td>f32</td><td>f32</td><td>f32</td><td>f32</td><td>f32</td><td>f32</td><td>f32</td><td>f32</td><td>f32</td><td>f32</td><td>f32</td><td>f32</td><td>f32</td><td>f32</td><td>f32</td><td>f32</td><td>f32</td><td>f32</td><td>f32</td><td>f32</td><td>f32</td><td>&hellip;</td><td>f32</td><td>f32</td><td>f32</td><td>f32</td><td>f32</td><td>f32</td><td>f32</td><td>f32</td><td>f32</td><td>f32</td><td>f32</td><td>f32</td><td>f32</td><td>f32</td><td>f32</td><td>f32</td><td>f32</td><td>f32</td><td>f32</td><td>f32</td><td>f32</td><td>f32</td><td>f32</td><td>f32</td><td>f32</td><td>f32</td><td>f32</td><td>f32</td><td>f32</td><td>f32</td><td>f32</td><td>f32</td><td>f32</td><td>f32</td><td>f32</td><td>f32</td><td>f32</td></tr></thead><tbody><tr><td>&quot;test_169651&quot;</td><td>112.920303</td><td>80.728722</td><td>-113.736816</td><td>73.368103</td><td>-30.201014</td><td>63.477821</td><td>9.353407</td><td>-66.842735</td><td>-0.541982</td><td>11.8318</td><td>-88.711487</td><td>424.837982</td><td>-71.256363</td><td>0.560301</td><td>181.282074</td><td>-54.115799</td><td>-34.324875</td><td>-848.990417</td><td>-22.3484</td><td>-68.151688</td><td>63.91415</td><td>-486.693054</td><td>100.571312</td><td>-136.417831</td><td>-11.996836</td><td>-275.693604</td><td>104.745262</td><td>169.752319</td><td>-186.880371</td><td>14.552244</td><td>-4.014626</td><td>0.019091</td><td>-3.225091</td><td>37.473473</td><td>-11.197102</td><td>-52.659477</td><td>&hellip;</td><td>155.800507</td><td>-50.840015</td><td>-767.394348</td><td>-240.498611</td><td>-1420.261719</td><td>169.228607</td><td>-28.509872</td><td>-9.368064</td><td>-579.744629</td><td>-3.054083</td><td>-248.271652</td><td>379.987427</td><td>-1546.053833</td><td>628.511719</td><td>-260.023407</td><td>-703.984619</td><td>354.391266</td><td>-81.9114</td><td>-72.10482</td><td>-229.82959</td><td>1.941056</td><td>102.760414</td><td>89.669655</td><td>5.985535</td><td>50.80135</td><td>-308.407623</td><td>-55.285816</td><td>-149.807037</td><td>224.280426</td><td>0.06623</td><td>3.89297</td><td>-37807.363281</td><td>-14500.273438</td><td>0.037648</td><td>0.059808</td><td>0.190383</td><td>0.180304</td></tr><tr><td>&quot;test_524862&quot;</td><td>112.920303</td><td>80.728722</td><td>-113.736816</td><td>73.368103</td><td>-30.201014</td><td>63.477821</td><td>9.353407</td><td>-66.842735</td><td>-0.541982</td><td>11.8318</td><td>-88.711487</td><td>424.837982</td><td>-71.256363</td><td>0.560301</td><td>181.282074</td><td>-54.115799</td><td>-34.324875</td><td>-848.990417</td><td>-22.3484</td><td>-68.151688</td><td>63.91415</td><td>-486.693054</td><td>100.571312</td><td>-136.417831</td><td>-11.996836</td><td>-275.693604</td><td>104.745262</td><td>169.752319</td><td>-186.880371</td><td>14.552244</td><td>-4.014626</td><td>0.019091</td><td>-3.225091</td><td>37.473473</td><td>-11.197102</td><td>-52.659477</td><td>&hellip;</td><td>155.800507</td><td>-50.840015</td><td>-767.394348</td><td>-240.498611</td><td>-1420.261719</td><td>169.228607</td><td>-28.509872</td><td>-9.368064</td><td>-579.744629</td><td>-3.054083</td><td>-248.271652</td><td>379.987427</td><td>-1546.053833</td><td>628.511719</td><td>-260.023407</td><td>-703.984619</td><td>354.391266</td><td>-81.9114</td><td>-72.10482</td><td>-229.82959</td><td>1.941056</td><td>102.760414</td><td>89.669655</td><td>5.985535</td><td>50.80135</td><td>-308.407623</td><td>-55.285816</td><td>-149.807037</td><td>224.280426</td><td>0.06623</td><td>3.89297</td><td>-37807.363281</td><td>-14500.273438</td><td>0.037648</td><td>0.059808</td><td>0.190383</td><td>0.180304</td></tr></tbody></table></div>"
      ],
      "text/plain": [
       "shape: (2, 369)\n",
       "┌───────────┬───────────┬───────────┬───────────┬───┬───────────┬───────────┬───────────┬──────────┐\n",
       "│ sample_id ┆ ptend_t_0 ┆ ptend_t_1 ┆ ptend_t_2 ┆ … ┆ cam_out_S ┆ cam_out_S ┆ cam_out_S ┆ cam_out_ │\n",
       "│ ---       ┆ ---       ┆ ---       ┆ ---       ┆   ┆ OLS       ┆ OLL       ┆ OLSD      ┆ SOLLD    │\n",
       "│ str       ┆ f32       ┆ f32       ┆ f32       ┆   ┆ ---       ┆ ---       ┆ ---       ┆ ---      │\n",
       "│           ┆           ┆           ┆           ┆   ┆ f32       ┆ f32       ┆ f32       ┆ f32      │\n",
       "╞═══════════╪═══════════╪═══════════╪═══════════╪═══╪═══════════╪═══════════╪═══════════╪══════════╡\n",
       "│ test_1696 ┆ 112.92030 ┆ 80.728722 ┆ -113.7368 ┆ … ┆ 0.037648  ┆ 0.059808  ┆ 0.190383  ┆ 0.180304 │\n",
       "│ 51        ┆ 3         ┆           ┆ 16        ┆   ┆           ┆           ┆           ┆          │\n",
       "│ test_5248 ┆ 112.92030 ┆ 80.728722 ┆ -113.7368 ┆ … ┆ 0.037648  ┆ 0.059808  ┆ 0.190383  ┆ 0.180304 │\n",
       "│ 62        ┆ 3         ┆           ┆ 16        ┆   ┆           ┆           ┆           ┆          │\n",
       "└───────────┴───────────┴───────────┴───────────┴───┴───────────┴───────────┴───────────┴──────────┘"
      ]
     },
     "execution_count": 34,
     "metadata": {},
     "output_type": "execute_result"
    }
   ],
   "source": [
    "# save_data = pl.from_numpy(data)\n",
    "save_save = pl.concat([sample_ids, sample_prs], how = \"horizontal\")\n",
    "save_save.head(2)"
   ]
  },
  {
   "cell_type": "code",
   "execution_count": 35,
   "id": "8264df01",
   "metadata": {
    "execution": {
     "iopub.execute_input": "2024-05-05T06:08:40.062435Z",
     "iopub.status.busy": "2024-05-05T06:08:40.062157Z",
     "iopub.status.idle": "2024-05-05T06:08:46.652212Z",
     "shell.execute_reply": "2024-05-05T06:08:46.650982Z"
    },
    "papermill": {
     "duration": 6.619342,
     "end_time": "2024-05-05T06:08:46.654810",
     "exception": false,
     "start_time": "2024-05-05T06:08:40.035468",
     "status": "completed"
    },
    "tags": []
   },
   "outputs": [],
   "source": [
    "save_save.write_csv(out_csv)"
   ]
  },
  {
   "cell_type": "code",
   "execution_count": 36,
   "id": "07a89734",
   "metadata": {
    "execution": {
     "iopub.execute_input": "2024-05-05T06:08:46.834558Z",
     "iopub.status.busy": "2024-05-05T06:08:46.834196Z",
     "iopub.status.idle": "2024-05-05T06:08:46.841294Z",
     "shell.execute_reply": "2024-05-05T06:08:46.840107Z"
    },
    "papermill": {
     "duration": 0.037786,
     "end_time": "2024-05-05T06:08:46.843341",
     "exception": false,
     "start_time": "2024-05-05T06:08:46.805555",
     "status": "completed"
    },
    "tags": []
   },
   "outputs": [
    {
     "data": {
      "text/plain": [
       "(625000, 369)"
      ]
     },
     "execution_count": 36,
     "metadata": {},
     "output_type": "execute_result"
    }
   ],
   "source": [
    "save_save.shape"
   ]
  },
  {
   "cell_type": "code",
   "execution_count": null,
   "id": "2b473338",
   "metadata": {
    "execution": {
     "iopub.execute_input": "2024-05-05T06:01:39.155537Z",
     "iopub.status.busy": "2024-05-05T06:01:39.154483Z",
     "iopub.status.idle": "2024-05-05T06:01:39.190882Z",
     "shell.execute_reply": "2024-05-05T06:01:39.189892Z",
     "shell.execute_reply.started": "2024-05-05T06:01:39.155492Z"
    },
    "papermill": {
     "duration": 0.04044,
     "end_time": "2024-05-05T06:08:46.916778",
     "exception": false,
     "start_time": "2024-05-05T06:08:46.876338",
     "status": "completed"
    },
    "tags": []
   },
   "outputs": [],
   "source": []
  }
 ],
 "metadata": {
  "kaggle": {
   "accelerator": "gpu",
   "dataSources": [
    {
     "databundleVersionId": 8015876,
     "sourceId": 56537,
     "sourceType": "competition"
    },
    {
     "isSourceIdPinned": true,
     "modelInstanceId": 36611,
     "sourceId": 43602,
     "sourceType": "modelInstanceVersion"
    }
   ],
   "dockerImageVersionId": 30699,
   "isGpuEnabled": true,
   "isInternetEnabled": true,
   "language": "python",
   "sourceType": "notebook"
  },
  "kernelspec": {
   "display_name": "Python 3",
   "language": "python",
   "name": "python3"
  },
  "language_info": {
   "codemirror_mode": {
    "name": "ipython",
    "version": 3
   },
   "file_extension": ".py",
   "mimetype": "text/x-python",
   "name": "python",
   "nbconvert_exporter": "python",
   "pygments_lexer": "ipython3",
   "version": "3.10.13"
  },
  "papermill": {
   "default_parameters": {},
   "duration": 245.836035,
   "end_time": "2024-05-05T06:08:50.487163",
   "environment_variables": {},
   "exception": null,
   "input_path": "__notebook__.ipynb",
   "output_path": "__notebook__.ipynb",
   "parameters": {},
   "start_time": "2024-05-05T06:04:44.651128",
   "version": "2.5.0"
  }
 },
 "nbformat": 4,
 "nbformat_minor": 5
}
